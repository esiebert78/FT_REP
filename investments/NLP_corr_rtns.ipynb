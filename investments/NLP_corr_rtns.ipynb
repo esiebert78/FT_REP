{
 "cells": [
  {
   "cell_type": "markdown",
   "metadata": {},
   "source": [
    "# Correlating Returns"
   ]
  },
  {
   "cell_type": "code",
   "execution_count": 14,
   "metadata": {
    "scrolled": true
   },
   "outputs": [],
   "source": [
    "import os\n",
    "import pandas as pd\n",
    "from datetime import datetime, timedelta\n",
    "from dotenv import load_dotenv\n",
    "import alpaca_trade_api as tradeapi\n",
    "from newsapi.newsapi_client import NewsApiClient\n",
    "from nltk.sentiment.vader import SentimentIntensityAnalyzer"
   ]
  },
  {
   "cell_type": "markdown",
   "metadata": {},
   "source": [
    "## Load API Keys from Environment Variables"
   ]
  },
  {
   "cell_type": "code",
   "execution_count": 15,
   "metadata": {},
   "outputs": [],
   "source": [
    "# Load .env enviroment variables\n",
    "load_dotenv()\n",
    "\n",
    "# Set News API Key\n",
    "newsapi = NewsApiClient(api_key=os.environ[\"NEWS_API_KEY\"])\n",
    "\n",
    "# Set Alpaca API key and secret\n",
    "alpaca_api_key = os.getenv(\"ALPACA_API_KEY\")\n",
    "alpaca_secret_key = os.getenv(\"ALPACA_SECRET_KEY\")\n",
    "\n",
    "api = tradeapi.REST(alpaca_api_key, alpaca_secret_key, api_version='v2')"
   ]
  },
  {
   "cell_type": "markdown",
   "metadata": {},
   "source": [
    "## Get AAPL Returns for Past Month"
   ]
  },
  {
   "cell_type": "code",
   "execution_count": 16,
   "metadata": {},
   "outputs": [
    {
     "data": {
      "text/html": [
       "<div>\n",
       "<style scoped>\n",
       "    .dataframe tbody tr th:only-of-type {\n",
       "        vertical-align: middle;\n",
       "    }\n",
       "\n",
       "    .dataframe tbody tr th {\n",
       "        vertical-align: top;\n",
       "    }\n",
       "\n",
       "    .dataframe thead tr th {\n",
       "        text-align: left;\n",
       "    }\n",
       "</style>\n",
       "<table border=\"1\" class=\"dataframe\">\n",
       "  <thead>\n",
       "    <tr>\n",
       "      <th></th>\n",
       "      <th colspan=\"5\" halign=\"left\">AAPL</th>\n",
       "    </tr>\n",
       "    <tr>\n",
       "      <th></th>\n",
       "      <th>open</th>\n",
       "      <th>high</th>\n",
       "      <th>low</th>\n",
       "      <th>close</th>\n",
       "      <th>volume</th>\n",
       "    </tr>\n",
       "  </thead>\n",
       "  <tbody>\n",
       "    <tr>\n",
       "      <th>2020-08-26 00:00:00-04:00</th>\n",
       "      <td>504.7165</td>\n",
       "      <td>507.97</td>\n",
       "      <td>500.33</td>\n",
       "      <td>506.19</td>\n",
       "      <td>37949023</td>\n",
       "    </tr>\n",
       "    <tr>\n",
       "      <th>2020-08-27 00:00:00-04:00</th>\n",
       "      <td>508.5700</td>\n",
       "      <td>509.94</td>\n",
       "      <td>495.33</td>\n",
       "      <td>500.04</td>\n",
       "      <td>36378278</td>\n",
       "    </tr>\n",
       "    <tr>\n",
       "      <th>2020-08-28 00:00:00-04:00</th>\n",
       "      <td>504.0500</td>\n",
       "      <td>505.77</td>\n",
       "      <td>498.31</td>\n",
       "      <td>498.83</td>\n",
       "      <td>38207206</td>\n",
       "    </tr>\n",
       "  </tbody>\n",
       "</table>\n",
       "</div>"
      ],
      "text/plain": [
       "                               AAPL                                  \n",
       "                               open    high     low   close    volume\n",
       "2020-08-26 00:00:00-04:00  504.7165  507.97  500.33  506.19  37949023\n",
       "2020-08-27 00:00:00-04:00  508.5700  509.94  495.33  500.04  36378278\n",
       "2020-08-28 00:00:00-04:00  504.0500  505.77  498.31  498.83  38207206"
      ]
     },
     "execution_count": 16,
     "metadata": {},
     "output_type": "execute_result"
    }
   ],
   "source": [
    "# Set the ticker\n",
    "ticker = \"AAPL\"\n",
    "\n",
    "# Set timeframe to '1D'\n",
    "timeframe = \"1D\"\n",
    "\n",
    "# Set current date and the date from one month ago using the ISO format\n",
    "current_date = pd.Timestamp(\"2020-08-30\", tz=\"America/New_York\").isoformat()\n",
    "past_date = pd.Timestamp(\"2020-08-26\", tz=\"America/New_York\").isoformat()\n",
    "\n",
    "# Get 4 weeks worth of historical data for AAPL\n",
    "df = api.get_barset(\n",
    "    ticker,\n",
    "    timeframe,\n",
    "    limit=None,\n",
    "    start=past_date,\n",
    "    end=current_date,\n",
    "    after=None,\n",
    "    until=None,\n",
    ").df\n",
    "\n",
    "# Display data\n",
    "df.head()"
   ]
  },
  {
   "cell_type": "code",
   "execution_count": 17,
   "metadata": {},
   "outputs": [
    {
     "data": {
      "text/html": [
       "<div>\n",
       "<style scoped>\n",
       "    .dataframe tbody tr th:only-of-type {\n",
       "        vertical-align: middle;\n",
       "    }\n",
       "\n",
       "    .dataframe tbody tr th {\n",
       "        vertical-align: top;\n",
       "    }\n",
       "\n",
       "    .dataframe thead th {\n",
       "        text-align: right;\n",
       "    }\n",
       "</style>\n",
       "<table border=\"1\" class=\"dataframe\">\n",
       "  <thead>\n",
       "    <tr style=\"text-align: right;\">\n",
       "      <th></th>\n",
       "      <th>close</th>\n",
       "    </tr>\n",
       "  </thead>\n",
       "  <tbody>\n",
       "    <tr>\n",
       "      <th>2020-08-26</th>\n",
       "      <td>506.19</td>\n",
       "    </tr>\n",
       "    <tr>\n",
       "      <th>2020-08-27</th>\n",
       "      <td>500.04</td>\n",
       "    </tr>\n",
       "    <tr>\n",
       "      <th>2020-08-28</th>\n",
       "      <td>498.83</td>\n",
       "    </tr>\n",
       "  </tbody>\n",
       "</table>\n",
       "</div>"
      ],
      "text/plain": [
       "             close\n",
       "2020-08-26  506.19\n",
       "2020-08-27  500.04\n",
       "2020-08-28  498.83"
      ]
     },
     "execution_count": 17,
     "metadata": {},
     "output_type": "execute_result"
    }
   ],
   "source": [
    "# Drop Outer Table Level\n",
    "df = df.droplevel(axis=1, level=0)\n",
    "\n",
    "# Use the drop function to drop extra columns\n",
    "df = df.drop(columns=[\"open\", \"high\", \"low\", \"volume\"])\n",
    "\n",
    "# Since this is daily data, we can keep only the date (remove the time) component of the data\n",
    "df.index = df.index.date\n",
    "\n",
    "# Display sample data\n",
    "df.head()"
   ]
  },
  {
   "cell_type": "code",
   "execution_count": 18,
   "metadata": {},
   "outputs": [
    {
     "data": {
      "text/html": [
       "<div>\n",
       "<style scoped>\n",
       "    .dataframe tbody tr th:only-of-type {\n",
       "        vertical-align: middle;\n",
       "    }\n",
       "\n",
       "    .dataframe tbody tr th {\n",
       "        vertical-align: top;\n",
       "    }\n",
       "\n",
       "    .dataframe thead th {\n",
       "        text-align: right;\n",
       "    }\n",
       "</style>\n",
       "<table border=\"1\" class=\"dataframe\">\n",
       "  <thead>\n",
       "    <tr style=\"text-align: right;\">\n",
       "      <th></th>\n",
       "      <th>close</th>\n",
       "    </tr>\n",
       "  </thead>\n",
       "  <tbody>\n",
       "    <tr>\n",
       "      <th>2020-08-27</th>\n",
       "      <td>-0.01215</td>\n",
       "    </tr>\n",
       "    <tr>\n",
       "      <th>2020-08-28</th>\n",
       "      <td>-0.00242</td>\n",
       "    </tr>\n",
       "  </tbody>\n",
       "</table>\n",
       "</div>"
      ],
      "text/plain": [
       "              close\n",
       "2020-08-27 -0.01215\n",
       "2020-08-28 -0.00242"
      ]
     },
     "execution_count": 18,
     "metadata": {},
     "output_type": "execute_result"
    }
   ],
   "source": [
    "# Use the `pct_change` function to calculate daily returns of AAPL\n",
    "aapl_returns = df.pct_change().dropna()\n",
    "\n",
    "# Display sample data\n",
    "aapl_returns.head()"
   ]
  },
  {
   "cell_type": "code",
   "execution_count": 19,
   "metadata": {},
   "outputs": [],
   "source": [
    "date = datetime.strptime(current_date[:10], \"%Y-%m-%d\")"
   ]
  },
  {
   "cell_type": "code",
   "execution_count": 20,
   "metadata": {},
   "outputs": [
    {
     "data": {
      "text/plain": [
       "'2020-08-30 00:00:00'"
      ]
     },
     "execution_count": 20,
     "metadata": {},
     "output_type": "execute_result"
    }
   ],
   "source": [
    "str(date)"
   ]
  },
  {
   "cell_type": "code",
   "execution_count": 21,
   "metadata": {},
   "outputs": [
    {
     "data": {
      "text/plain": [
       "'2020-08-30'"
      ]
     },
     "execution_count": 21,
     "metadata": {},
     "output_type": "execute_result"
    }
   ],
   "source": [
    "current_date[:10]"
   ]
  },
  {
   "cell_type": "code",
   "execution_count": 22,
   "metadata": {},
   "outputs": [],
   "source": [
    "articles = newsapi.get_everything(\n",
    "            q='apple',\n",
    "            from_param='2020-08-26',\n",
    "#             to=str(date),\n",
    "            language=\"en\",\n",
    "            sort_by=\"relevancy\",\n",
    "            page=1,\n",
    "        )"
   ]
  },
  {
   "cell_type": "code",
   "execution_count": 23,
   "metadata": {},
   "outputs": [],
   "source": [
    "# Use newsapi client to get most relevant 20 headlines per day in the past month\n",
    "def get_headlines(keyword):\n",
    "    all_headlines = []\n",
    "    all_dates = []    \n",
    "    date = datetime.strptime(current_date[:10], \"%Y-%m-%d\")\n",
    "    end_date = datetime.strptime(past_date[:10], \"%Y-%m-%d\")\n",
    "\n",
    "    print(f\"Fetching news about '{keyword}'\")\n",
    "    print(\"*\" * 30)\n",
    "    while date > end_date:\n",
    "        print(f\"retrieving news from: {date}\")\n",
    "        articles = newsapi.get_everything(\n",
    "            q=keyword,\n",
    "            from_param=date.strftime('%Y-%m-%d'),\n",
    "            to=date.strftime('%Y-%m-%d'),\n",
    "            language=\"en\",\n",
    "            sort_by=\"relevancy\",\n",
    "            page=1,\n",
    "        )            \n",
    "        headlines = [article['title'] for article in articles['articles']]\n",
    "        \n",
    "        all_headlines.append(headlines)\n",
    "        all_dates.append(date)\n",
    "        date = date - timedelta(days=1)\n",
    "    return all_headlines, all_dates"
   ]
  },
  {
   "cell_type": "code",
   "execution_count": 24,
   "metadata": {},
   "outputs": [
    {
     "name": "stdout",
     "output_type": "stream",
     "text": [
      "Fetching news about 'apple'\n",
      "******************************\n",
      "retrieving news from: 2020-08-30 00:00:00\n",
      "retrieving news from: 2020-08-29 00:00:00\n",
      "retrieving news from: 2020-08-28 00:00:00\n",
      "retrieving news from: 2020-08-27 00:00:00\n"
     ]
    }
   ],
   "source": [
    "# Get first topic\n",
    "aapl_headlines, dates = get_headlines(\"apple\")"
   ]
  },
  {
   "cell_type": "code",
   "execution_count": 25,
   "metadata": {},
   "outputs": [
    {
     "name": "stdout",
     "output_type": "stream",
     "text": [
      "Fetching news about 'trade'\n",
      "******************************\n",
      "retrieving news from: 2020-08-30 00:00:00\n",
      "retrieving news from: 2020-08-29 00:00:00\n",
      "retrieving news from: 2020-08-28 00:00:00\n",
      "retrieving news from: 2020-08-27 00:00:00\n"
     ]
    }
   ],
   "source": [
    "# Get second topic\n",
    "trade_headlines, _ = get_headlines(\"trade\")"
   ]
  },
  {
   "cell_type": "code",
   "execution_count": 26,
   "metadata": {},
   "outputs": [
    {
     "name": "stdout",
     "output_type": "stream",
     "text": [
      "Fetching news about 'economy'\n",
      "******************************\n",
      "retrieving news from: 2020-08-30 00:00:00\n",
      "retrieving news from: 2020-08-29 00:00:00\n",
      "retrieving news from: 2020-08-28 00:00:00\n",
      "retrieving news from: 2020-08-27 00:00:00\n"
     ]
    }
   ],
   "source": [
    "# Get third topic\n",
    "economy_headlines, _ = get_headlines(\"economy\")"
   ]
  },
  {
   "cell_type": "code",
   "execution_count": 27,
   "metadata": {},
   "outputs": [
    {
     "name": "stdout",
     "output_type": "stream",
     "text": [
      "Fetching news about 'iphone'\n",
      "******************************\n",
      "retrieving news from: 2020-08-30 00:00:00\n",
      "retrieving news from: 2020-08-29 00:00:00\n",
      "retrieving news from: 2020-08-28 00:00:00\n",
      "retrieving news from: 2020-08-27 00:00:00\n"
     ]
    }
   ],
   "source": [
    "# Get fourth topic\n",
    "iphone_headlines, _ = get_headlines(\"iphone\")"
   ]
  },
  {
   "cell_type": "code",
   "execution_count": 28,
   "metadata": {},
   "outputs": [
    {
     "name": "stdout",
     "output_type": "stream",
     "text": [
      "Fetching news about 'gold'\n",
      "******************************\n",
      "retrieving news from: 2020-08-30 00:00:00\n",
      "retrieving news from: 2020-08-29 00:00:00\n",
      "retrieving news from: 2020-08-28 00:00:00\n",
      "retrieving news from: 2020-08-27 00:00:00\n"
     ]
    }
   ],
   "source": [
    "# Get fifth topic\n",
    "gold_headlines, _ = get_headlines(\"gold\")"
   ]
  },
  {
   "cell_type": "code",
   "execution_count": 29,
   "metadata": {},
   "outputs": [],
   "source": [
    "# Instantiate SentimentIntensityAnalyzer\n",
    "sid = SentimentIntensityAnalyzer()"
   ]
  },
  {
   "cell_type": "code",
   "execution_count": 30,
   "metadata": {},
   "outputs": [],
   "source": [
    "# Create function that computes average compound sentiment of headlines for each day\n",
    "def headline_sentiment_summarizer_avg(headlines):\n",
    "    sentiment = []\n",
    "    for day in headlines:\n",
    "        day_score = []\n",
    "        for h in day:\n",
    "            if h == None:\n",
    "                continue\n",
    "            else:\n",
    "                day_score.append(sid.polarity_scores(h)[\"compound\"])\n",
    "        sentiment.append(sum(day_score) / len(day_score))\n",
    "    return sentiment"
   ]
  },
  {
   "cell_type": "code",
   "execution_count": 31,
   "metadata": {},
   "outputs": [],
   "source": [
    "# Get averages of each topics sentiment\n",
    "aapl_avg = headline_sentiment_summarizer_avg(aapl_headlines)\n",
    "trade_avg = headline_sentiment_summarizer_avg(trade_headlines)\n",
    "economy_avg = headline_sentiment_summarizer_avg(economy_headlines)\n",
    "iphone_avg = headline_sentiment_summarizer_avg(iphone_headlines)\n",
    "gold_avg = headline_sentiment_summarizer_avg(gold_headlines)"
   ]
  },
  {
   "cell_type": "code",
   "execution_count": 32,
   "metadata": {},
   "outputs": [],
   "source": [
    "# Combine Sentiment Averages into DataFrame\n",
    "topic_sentiments = pd.DataFrame(\n",
    "    {\n",
    "        \"aapl_avg\": aapl_avg,\n",
    "        \"trade_avg\": trade_avg,\n",
    "        \"economy_avg\": economy_avg,\n",
    "        \"iphone_avg\": iphone_avg,\n",
    "        \"gold_avg\": gold_avg,\n",
    "    }\n",
    ")"
   ]
  },
  {
   "cell_type": "code",
   "execution_count": 33,
   "metadata": {
    "scrolled": true
   },
   "outputs": [],
   "source": [
    "# Set the index value of the sentiment averages DataFrame to be the series of dates.\n",
    "topic_sentiments.index = pd.to_datetime(dates)"
   ]
  },
  {
   "cell_type": "code",
   "execution_count": 34,
   "metadata": {},
   "outputs": [
    {
     "data": {
      "text/html": [
       "<div>\n",
       "<style scoped>\n",
       "    .dataframe tbody tr th:only-of-type {\n",
       "        vertical-align: middle;\n",
       "    }\n",
       "\n",
       "    .dataframe tbody tr th {\n",
       "        vertical-align: top;\n",
       "    }\n",
       "\n",
       "    .dataframe thead th {\n",
       "        text-align: right;\n",
       "    }\n",
       "</style>\n",
       "<table border=\"1\" class=\"dataframe\">\n",
       "  <thead>\n",
       "    <tr style=\"text-align: right;\">\n",
       "      <th></th>\n",
       "      <th>close</th>\n",
       "      <th>aapl_avg</th>\n",
       "      <th>trade_avg</th>\n",
       "      <th>economy_avg</th>\n",
       "      <th>iphone_avg</th>\n",
       "      <th>gold_avg</th>\n",
       "    </tr>\n",
       "  </thead>\n",
       "  <tbody>\n",
       "    <tr>\n",
       "      <th>2020-08-27</th>\n",
       "      <td>-0.01215</td>\n",
       "      <td>-0.027505</td>\n",
       "      <td>-0.029595</td>\n",
       "      <td>-0.144850</td>\n",
       "      <td>0.07766</td>\n",
       "      <td>0.165215</td>\n",
       "    </tr>\n",
       "    <tr>\n",
       "      <th>2020-08-28</th>\n",
       "      <td>-0.00242</td>\n",
       "      <td>-0.083950</td>\n",
       "      <td>-0.007715</td>\n",
       "      <td>0.095855</td>\n",
       "      <td>-0.04384</td>\n",
       "      <td>-0.015305</td>\n",
       "    </tr>\n",
       "  </tbody>\n",
       "</table>\n",
       "</div>"
      ],
      "text/plain": [
       "              close  aapl_avg  trade_avg  economy_avg  iphone_avg  gold_avg\n",
       "2020-08-27 -0.01215 -0.027505  -0.029595    -0.144850     0.07766  0.165215\n",
       "2020-08-28 -0.00242 -0.083950  -0.007715     0.095855    -0.04384 -0.015305"
      ]
     },
     "metadata": {},
     "output_type": "display_data"
    }
   ],
   "source": [
    "# Merge with AAPL returns\n",
    "topic_sentiments = aapl_returns.join(topic_sentiments).dropna(how=\"any\")\n",
    "\n",
    "# Display data\n",
    "display(topic_sentiments)"
   ]
  },
  {
   "cell_type": "code",
   "execution_count": 35,
   "metadata": {},
   "outputs": [
    {
     "data": {
      "text/html": [
       "<style  type=\"text/css\" >\n",
       "    #T_c2902012_eaff_11ea_ad89_e86f3841a264row0_col0 {\n",
       "            background-color:  #023858;\n",
       "            color:  #f1f1f1;\n",
       "        }    #T_c2902012_eaff_11ea_ad89_e86f3841a264row0_col1 {\n",
       "            background-color:  #fff7fb;\n",
       "            color:  #000000;\n",
       "        }    #T_c2902012_eaff_11ea_ad89_e86f3841a264row0_col2 {\n",
       "            background-color:  #023858;\n",
       "            color:  #f1f1f1;\n",
       "        }    #T_c2902012_eaff_11ea_ad89_e86f3841a264row0_col3 {\n",
       "            background-color:  #023858;\n",
       "            color:  #f1f1f1;\n",
       "        }    #T_c2902012_eaff_11ea_ad89_e86f3841a264row0_col4 {\n",
       "            background-color:  #fff7fb;\n",
       "            color:  #000000;\n",
       "        }    #T_c2902012_eaff_11ea_ad89_e86f3841a264row0_col5 {\n",
       "            background-color:  #fff7fb;\n",
       "            color:  #000000;\n",
       "        }    #T_c2902012_eaff_11ea_ad89_e86f3841a264row1_col0 {\n",
       "            background-color:  #fff7fb;\n",
       "            color:  #000000;\n",
       "        }    #T_c2902012_eaff_11ea_ad89_e86f3841a264row1_col1 {\n",
       "            background-color:  #023858;\n",
       "            color:  #f1f1f1;\n",
       "        }    #T_c2902012_eaff_11ea_ad89_e86f3841a264row1_col2 {\n",
       "            background-color:  #fff7fb;\n",
       "            color:  #000000;\n",
       "        }    #T_c2902012_eaff_11ea_ad89_e86f3841a264row1_col3 {\n",
       "            background-color:  #fff7fb;\n",
       "            color:  #000000;\n",
       "        }    #T_c2902012_eaff_11ea_ad89_e86f3841a264row1_col4 {\n",
       "            background-color:  #023858;\n",
       "            color:  #f1f1f1;\n",
       "        }    #T_c2902012_eaff_11ea_ad89_e86f3841a264row1_col5 {\n",
       "            background-color:  #023858;\n",
       "            color:  #f1f1f1;\n",
       "        }    #T_c2902012_eaff_11ea_ad89_e86f3841a264row2_col0 {\n",
       "            background-color:  #023858;\n",
       "            color:  #f1f1f1;\n",
       "        }    #T_c2902012_eaff_11ea_ad89_e86f3841a264row2_col1 {\n",
       "            background-color:  #fff7fb;\n",
       "            color:  #000000;\n",
       "        }    #T_c2902012_eaff_11ea_ad89_e86f3841a264row2_col2 {\n",
       "            background-color:  #023858;\n",
       "            color:  #f1f1f1;\n",
       "        }    #T_c2902012_eaff_11ea_ad89_e86f3841a264row2_col3 {\n",
       "            background-color:  #023858;\n",
       "            color:  #f1f1f1;\n",
       "        }    #T_c2902012_eaff_11ea_ad89_e86f3841a264row2_col4 {\n",
       "            background-color:  #fff7fb;\n",
       "            color:  #000000;\n",
       "        }    #T_c2902012_eaff_11ea_ad89_e86f3841a264row2_col5 {\n",
       "            background-color:  #fff7fb;\n",
       "            color:  #000000;\n",
       "        }    #T_c2902012_eaff_11ea_ad89_e86f3841a264row3_col0 {\n",
       "            background-color:  #023858;\n",
       "            color:  #f1f1f1;\n",
       "        }    #T_c2902012_eaff_11ea_ad89_e86f3841a264row3_col1 {\n",
       "            background-color:  #fff7fb;\n",
       "            color:  #000000;\n",
       "        }    #T_c2902012_eaff_11ea_ad89_e86f3841a264row3_col2 {\n",
       "            background-color:  #023858;\n",
       "            color:  #f1f1f1;\n",
       "        }    #T_c2902012_eaff_11ea_ad89_e86f3841a264row3_col3 {\n",
       "            background-color:  #023858;\n",
       "            color:  #f1f1f1;\n",
       "        }    #T_c2902012_eaff_11ea_ad89_e86f3841a264row3_col4 {\n",
       "            background-color:  #fff7fb;\n",
       "            color:  #000000;\n",
       "        }    #T_c2902012_eaff_11ea_ad89_e86f3841a264row3_col5 {\n",
       "            background-color:  #fff7fb;\n",
       "            color:  #000000;\n",
       "        }    #T_c2902012_eaff_11ea_ad89_e86f3841a264row4_col0 {\n",
       "            background-color:  #fff7fb;\n",
       "            color:  #000000;\n",
       "        }    #T_c2902012_eaff_11ea_ad89_e86f3841a264row4_col1 {\n",
       "            background-color:  #023858;\n",
       "            color:  #f1f1f1;\n",
       "        }    #T_c2902012_eaff_11ea_ad89_e86f3841a264row4_col2 {\n",
       "            background-color:  #fff7fb;\n",
       "            color:  #000000;\n",
       "        }    #T_c2902012_eaff_11ea_ad89_e86f3841a264row4_col3 {\n",
       "            background-color:  #fff7fb;\n",
       "            color:  #000000;\n",
       "        }    #T_c2902012_eaff_11ea_ad89_e86f3841a264row4_col4 {\n",
       "            background-color:  #023858;\n",
       "            color:  #f1f1f1;\n",
       "        }    #T_c2902012_eaff_11ea_ad89_e86f3841a264row4_col5 {\n",
       "            background-color:  #023858;\n",
       "            color:  #f1f1f1;\n",
       "        }    #T_c2902012_eaff_11ea_ad89_e86f3841a264row5_col0 {\n",
       "            background-color:  #fff7fb;\n",
       "            color:  #000000;\n",
       "        }    #T_c2902012_eaff_11ea_ad89_e86f3841a264row5_col1 {\n",
       "            background-color:  #023858;\n",
       "            color:  #f1f1f1;\n",
       "        }    #T_c2902012_eaff_11ea_ad89_e86f3841a264row5_col2 {\n",
       "            background-color:  #fff7fb;\n",
       "            color:  #000000;\n",
       "        }    #T_c2902012_eaff_11ea_ad89_e86f3841a264row5_col3 {\n",
       "            background-color:  #fff7fb;\n",
       "            color:  #000000;\n",
       "        }    #T_c2902012_eaff_11ea_ad89_e86f3841a264row5_col4 {\n",
       "            background-color:  #023858;\n",
       "            color:  #f1f1f1;\n",
       "        }    #T_c2902012_eaff_11ea_ad89_e86f3841a264row5_col5 {\n",
       "            background-color:  #023858;\n",
       "            color:  #f1f1f1;\n",
       "        }</style><table id=\"T_c2902012_eaff_11ea_ad89_e86f3841a264\" ><thead>    <tr>        <th class=\"blank level0\" ></th>        <th class=\"col_heading level0 col0\" >close</th>        <th class=\"col_heading level0 col1\" >aapl_avg</th>        <th class=\"col_heading level0 col2\" >trade_avg</th>        <th class=\"col_heading level0 col3\" >economy_avg</th>        <th class=\"col_heading level0 col4\" >iphone_avg</th>        <th class=\"col_heading level0 col5\" >gold_avg</th>    </tr></thead><tbody>\n",
       "                <tr>\n",
       "                        <th id=\"T_c2902012_eaff_11ea_ad89_e86f3841a264level0_row0\" class=\"row_heading level0 row0\" >close</th>\n",
       "                        <td id=\"T_c2902012_eaff_11ea_ad89_e86f3841a264row0_col0\" class=\"data row0 col0\" >1.000000</td>\n",
       "                        <td id=\"T_c2902012_eaff_11ea_ad89_e86f3841a264row0_col1\" class=\"data row0 col1\" >-1.000000</td>\n",
       "                        <td id=\"T_c2902012_eaff_11ea_ad89_e86f3841a264row0_col2\" class=\"data row0 col2\" >1.000000</td>\n",
       "                        <td id=\"T_c2902012_eaff_11ea_ad89_e86f3841a264row0_col3\" class=\"data row0 col3\" >1.000000</td>\n",
       "                        <td id=\"T_c2902012_eaff_11ea_ad89_e86f3841a264row0_col4\" class=\"data row0 col4\" >-1.000000</td>\n",
       "                        <td id=\"T_c2902012_eaff_11ea_ad89_e86f3841a264row0_col5\" class=\"data row0 col5\" >-1.000000</td>\n",
       "            </tr>\n",
       "            <tr>\n",
       "                        <th id=\"T_c2902012_eaff_11ea_ad89_e86f3841a264level0_row1\" class=\"row_heading level0 row1\" >aapl_avg</th>\n",
       "                        <td id=\"T_c2902012_eaff_11ea_ad89_e86f3841a264row1_col0\" class=\"data row1 col0\" >-1.000000</td>\n",
       "                        <td id=\"T_c2902012_eaff_11ea_ad89_e86f3841a264row1_col1\" class=\"data row1 col1\" >1.000000</td>\n",
       "                        <td id=\"T_c2902012_eaff_11ea_ad89_e86f3841a264row1_col2\" class=\"data row1 col2\" >-1.000000</td>\n",
       "                        <td id=\"T_c2902012_eaff_11ea_ad89_e86f3841a264row1_col3\" class=\"data row1 col3\" >-1.000000</td>\n",
       "                        <td id=\"T_c2902012_eaff_11ea_ad89_e86f3841a264row1_col4\" class=\"data row1 col4\" >1.000000</td>\n",
       "                        <td id=\"T_c2902012_eaff_11ea_ad89_e86f3841a264row1_col5\" class=\"data row1 col5\" >1.000000</td>\n",
       "            </tr>\n",
       "            <tr>\n",
       "                        <th id=\"T_c2902012_eaff_11ea_ad89_e86f3841a264level0_row2\" class=\"row_heading level0 row2\" >trade_avg</th>\n",
       "                        <td id=\"T_c2902012_eaff_11ea_ad89_e86f3841a264row2_col0\" class=\"data row2 col0\" >1.000000</td>\n",
       "                        <td id=\"T_c2902012_eaff_11ea_ad89_e86f3841a264row2_col1\" class=\"data row2 col1\" >-1.000000</td>\n",
       "                        <td id=\"T_c2902012_eaff_11ea_ad89_e86f3841a264row2_col2\" class=\"data row2 col2\" >1.000000</td>\n",
       "                        <td id=\"T_c2902012_eaff_11ea_ad89_e86f3841a264row2_col3\" class=\"data row2 col3\" >1.000000</td>\n",
       "                        <td id=\"T_c2902012_eaff_11ea_ad89_e86f3841a264row2_col4\" class=\"data row2 col4\" >-1.000000</td>\n",
       "                        <td id=\"T_c2902012_eaff_11ea_ad89_e86f3841a264row2_col5\" class=\"data row2 col5\" >-1.000000</td>\n",
       "            </tr>\n",
       "            <tr>\n",
       "                        <th id=\"T_c2902012_eaff_11ea_ad89_e86f3841a264level0_row3\" class=\"row_heading level0 row3\" >economy_avg</th>\n",
       "                        <td id=\"T_c2902012_eaff_11ea_ad89_e86f3841a264row3_col0\" class=\"data row3 col0\" >1.000000</td>\n",
       "                        <td id=\"T_c2902012_eaff_11ea_ad89_e86f3841a264row3_col1\" class=\"data row3 col1\" >-1.000000</td>\n",
       "                        <td id=\"T_c2902012_eaff_11ea_ad89_e86f3841a264row3_col2\" class=\"data row3 col2\" >1.000000</td>\n",
       "                        <td id=\"T_c2902012_eaff_11ea_ad89_e86f3841a264row3_col3\" class=\"data row3 col3\" >1.000000</td>\n",
       "                        <td id=\"T_c2902012_eaff_11ea_ad89_e86f3841a264row3_col4\" class=\"data row3 col4\" >-1.000000</td>\n",
       "                        <td id=\"T_c2902012_eaff_11ea_ad89_e86f3841a264row3_col5\" class=\"data row3 col5\" >-1.000000</td>\n",
       "            </tr>\n",
       "            <tr>\n",
       "                        <th id=\"T_c2902012_eaff_11ea_ad89_e86f3841a264level0_row4\" class=\"row_heading level0 row4\" >iphone_avg</th>\n",
       "                        <td id=\"T_c2902012_eaff_11ea_ad89_e86f3841a264row4_col0\" class=\"data row4 col0\" >-1.000000</td>\n",
       "                        <td id=\"T_c2902012_eaff_11ea_ad89_e86f3841a264row4_col1\" class=\"data row4 col1\" >1.000000</td>\n",
       "                        <td id=\"T_c2902012_eaff_11ea_ad89_e86f3841a264row4_col2\" class=\"data row4 col2\" >-1.000000</td>\n",
       "                        <td id=\"T_c2902012_eaff_11ea_ad89_e86f3841a264row4_col3\" class=\"data row4 col3\" >-1.000000</td>\n",
       "                        <td id=\"T_c2902012_eaff_11ea_ad89_e86f3841a264row4_col4\" class=\"data row4 col4\" >1.000000</td>\n",
       "                        <td id=\"T_c2902012_eaff_11ea_ad89_e86f3841a264row4_col5\" class=\"data row4 col5\" >1.000000</td>\n",
       "            </tr>\n",
       "            <tr>\n",
       "                        <th id=\"T_c2902012_eaff_11ea_ad89_e86f3841a264level0_row5\" class=\"row_heading level0 row5\" >gold_avg</th>\n",
       "                        <td id=\"T_c2902012_eaff_11ea_ad89_e86f3841a264row5_col0\" class=\"data row5 col0\" >-1.000000</td>\n",
       "                        <td id=\"T_c2902012_eaff_11ea_ad89_e86f3841a264row5_col1\" class=\"data row5 col1\" >1.000000</td>\n",
       "                        <td id=\"T_c2902012_eaff_11ea_ad89_e86f3841a264row5_col2\" class=\"data row5 col2\" >-1.000000</td>\n",
       "                        <td id=\"T_c2902012_eaff_11ea_ad89_e86f3841a264row5_col3\" class=\"data row5 col3\" >-1.000000</td>\n",
       "                        <td id=\"T_c2902012_eaff_11ea_ad89_e86f3841a264row5_col4\" class=\"data row5 col4\" >1.000000</td>\n",
       "                        <td id=\"T_c2902012_eaff_11ea_ad89_e86f3841a264row5_col5\" class=\"data row5 col5\" >1.000000</td>\n",
       "            </tr>\n",
       "    </tbody></table>"
      ],
      "text/plain": [
       "<pandas.io.formats.style.Styler at 0x233e3a022c8>"
      ]
     },
     "execution_count": 35,
     "metadata": {},
     "output_type": "execute_result"
    }
   ],
   "source": [
    "# Correlate the headlines' sentiment to returns\n",
    "topic_sentiments.corr().style.background_gradient()"
   ]
  },
  {
   "cell_type": "code",
   "execution_count": null,
   "metadata": {},
   "outputs": [],
   "source": []
  }
 ],
 "metadata": {
  "file_extension": ".py",
  "kernelspec": {
   "display_name": "Python 3",
   "language": "python",
   "name": "python3"
  },
  "language_info": {
   "codemirror_mode": {
    "name": "ipython",
    "version": 3
   },
   "file_extension": ".py",
   "mimetype": "text/x-python",
   "name": "python",
   "nbconvert_exporter": "python",
   "pygments_lexer": "ipython3",
   "version": "3.7.7"
  },
  "mimetype": "text/x-python",
  "name": "python",
  "npconvert_exporter": "python",
  "pygments_lexer": "ipython3",
  "version": 3
 },
 "nbformat": 4,
 "nbformat_minor": 4
}
