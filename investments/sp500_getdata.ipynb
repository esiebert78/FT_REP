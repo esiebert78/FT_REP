{
 "cells": [
  {
   "cell_type": "code",
   "execution_count": 1,
   "metadata": {},
   "outputs": [],
   "source": [
    "import pandas as pd\n",
    "import yfinance as yf\n",
    "from datetime import datetime, timedelta"
   ]
  },
  {
   "cell_type": "code",
   "execution_count": 2,
   "metadata": {
    "scrolled": true
   },
   "outputs": [
    {
     "name": "stdout",
     "output_type": "stream",
     "text": [
      "['A', 'AAL', 'AAP', 'AAPL', 'ABBV', 'ABC', 'ABMD', 'ABT', 'ACN', 'ADBE', 'ADI', 'ADM', 'ADP', 'ADSK', 'AEE', 'AEP', 'AES', 'AFL', 'AIG', 'AIV', 'AIZ', 'AJG', 'AKAM', 'ALB', 'ALGN', 'ALK', 'ALL', 'ALLE', 'ALXN', 'AMAT', 'AMCR', 'AMD', 'AME', 'AMGN', 'AMP', 'AMT', 'AMZN', 'ANET', 'ANSS', 'ANTM', 'AON', 'AOS', 'APA', 'APD', 'APH', 'APTV', 'ARE', 'ATO', 'ATVI', 'AVB', 'AVGO', 'AVY', 'AWK', 'AXP', 'AZO', 'BA', 'BAC', 'BAX', 'BBY', 'BDX', 'BEN', 'BF.B', 'BIIB', 'BIO', 'BK', 'BKNG', 'BKR', 'BLK', 'BLL', 'BMY', 'BR', 'BRK.B', 'BSX', 'BWA', 'BXP', 'C', 'CAG', 'CAH', 'CARR', 'CAT', 'CB', 'CBOE', 'CBRE', 'CCI', 'CCL', 'CDNS', 'CDW', 'CE', 'CERN', 'CF', 'CFG', 'CHD', 'CHRW', 'CHTR', 'CI', 'CINF', 'CL', 'CLX', 'CMA', 'CMCSA', 'CME', 'CMG', 'CMI', 'CMS', 'CNC', 'CNP', 'COF', 'COG', 'COO', 'COP', 'COST', 'COTY', 'CPB', 'CPRT', 'CRM', 'CSCO', 'CSX', 'CTAS', 'CTL', 'CTSH', 'CTVA', 'CTXS', 'CVS', 'CVX', 'CXO', 'D', 'DAL', 'DD', 'DE', 'DFS', 'DG', 'DGX', 'DHI', 'DHR', 'DIS', 'DISCA', 'DISCK', 'DISH', 'DLR', 'DLTR', 'DOV', 'DOW', 'DPZ', 'DRE', 'DRI', 'DTE', 'DUK', 'DVA', 'DVN', 'DXC', 'DXCM', 'EA', 'EBAY', 'ECL', 'ED', 'EFX', 'EIX', 'EL', 'EMN', 'EMR', 'EOG', 'EQIX', 'EQR', 'ES', 'ESS', 'ETFC', 'ETN', 'ETR', 'EVRG', 'EW', 'EXC', 'EXPD', 'EXPE', 'EXR', 'F', 'FANG', 'FAST', 'FB', 'FBHS', 'FCX', 'FDX', 'FE', 'FFIV', 'FIS', 'FISV', 'FITB', 'FLIR', 'FLS', 'FLT', 'FMC', 'FOX', 'FOXA', 'FRC', 'FRT', 'FTI', 'FTNT', 'FTV', 'GD', 'GE', 'GILD', 'GIS', 'GL', 'GLW', 'GM', 'GOOG', 'GOOGL', 'GPC', 'GPN', 'GPS', 'GRMN', 'GS', 'GWW', 'HAL', 'HAS', 'HBAN', 'HBI', 'HCA', 'HD', 'HES', 'HFC', 'HIG', 'HII', 'HLT', 'HOLX', 'HON', 'HPE', 'HPQ', 'HRB', 'HRL', 'HSIC', 'HST', 'HSY', 'HUM', 'HWM', 'IBM', 'ICE', 'IDXX', 'IEX', 'IFF', 'ILMN', 'INCY', 'INFO', 'INTC', 'INTU', 'IP', 'IPG', 'IPGP', 'IQV', 'IR', 'IRM', 'ISRG', 'IT', 'ITW', 'IVZ', 'J', 'JBHT', 'JCI', 'JKHY', 'JNJ', 'JNPR', 'JPM', 'K', 'KEY', 'KEYS', 'KHC', 'KIM', 'KLAC', 'KMB', 'KMI', 'KMX', 'KO', 'KR', 'KSS', 'KSU', 'L', 'LB', 'LDOS', 'LEG', 'LEN', 'LH', 'LHX', 'LIN', 'LKQ', 'LLY', 'LMT', 'LNC', 'LNT', 'LOW', 'LRCX', 'LUV', 'LVS', 'LW', 'LYB', 'LYV', 'MA', 'MAA', 'MAR', 'MAS', 'MCD', 'MCHP', 'MCK', 'MCO', 'MDLZ', 'MDT', 'MET', 'MGM', 'MHK', 'MKC', 'MKTX', 'MLM', 'MMC', 'MMM', 'MNST', 'MO', 'MOS', 'MPC', 'MRK', 'MRO', 'MS', 'MSCI', 'MSFT', 'MSI', 'MTB', 'MTD', 'MU', 'MXIM', 'MYL', 'NBL', 'NCLH', 'NDAQ', 'NEE', 'NEM', 'NFLX', 'NI', 'NKE', 'NLOK', 'NLSN', 'NOC', 'NOV', 'NOW', 'NRG', 'NSC', 'NTAP', 'NTRS', 'NUE', 'NVDA', 'NVR', 'NWL', 'NWS', 'NWSA', 'O', 'ODFL', 'OKE', 'OMC', 'ORCL', 'ORLY', 'OTIS', 'OXY', 'PAYC', 'PAYX', 'PBCT', 'PCAR', 'PEAK', 'PEG', 'PEP', 'PFE', 'PFG', 'PG', 'PGR', 'PH', 'PHM', 'PKG', 'PKI', 'PLD', 'PM', 'PNC', 'PNR', 'PNW', 'PPG', 'PPL', 'PRGO', 'PRU', 'PSA', 'PSX', 'PVH', 'PWR', 'PXD', 'PYPL', 'QCOM', 'QRVO', 'RCL', 'RE', 'REG', 'REGN', 'RF', 'RHI', 'RJF', 'RL', 'RMD', 'ROK', 'ROL', 'ROP', 'ROST', 'RSG', 'RTX', 'SBAC', 'SBUX', 'SCHW', 'SEE', 'SHW', 'SIVB', 'SJM', 'SLB', 'SLG', 'SNA', 'SNPS', 'SO', 'SPG', 'SPGI', 'SRE', 'STE', 'STT', 'STX', 'STZ', 'SWK', 'SWKS', 'SYF', 'SYK', 'SYY', 'T', 'TAP', 'TDG', 'TDY', 'TEL', 'TFC', 'TFX', 'TGT', 'TIF', 'TJX', 'TMO', 'TMUS', 'TPR', 'TROW', 'TRV', 'TSCO', 'TSN', 'TT', 'TTWO', 'TWTR', 'TXN', 'TXT', 'TYL', 'UA', 'UAA', 'UAL', 'UDR', 'UHS', 'ULTA', 'UNH', 'UNM', 'UNP', 'UPS', 'URI', 'USB', 'V', 'VAR', 'VFC', 'VIAC', 'VLO', 'VMC', 'VNO', 'VRSK', 'VRSN', 'VRTX', 'VTR', 'VZ', 'WAB', 'WAT', 'WBA', 'WDC', 'WEC', 'WELL', 'WFC', 'WHR', 'WLTW', 'WM', 'WMB', 'WMT', 'WRB', 'WRK', 'WST', 'WU', 'WY', 'WYNN', 'XEL', 'XLNX', 'XOM', 'XRAY', 'XRX', 'XYL', 'YUM', 'ZBH', 'ZBRA', 'ZION', 'ZTS']\n"
     ]
    }
   ],
   "source": [
    "sp500_df = pd.DataFrame()\n",
    "sp500_wiki = pd.read_html('https://en.wikipedia.org/wiki/List_of_S%26P_500_companies')\n",
    "sp500_df = sp500_wiki[0]\n",
    "sp500_list = sp500_df['Symbol'].tolist()\n",
    "sp500_list.sort()\n",
    "print(sp500_list)"
   ]
  },
  {
   "cell_type": "code",
   "execution_count": 3,
   "metadata": {},
   "outputs": [
    {
     "name": "stdout",
     "output_type": "stream",
     "text": [
      "2020-09-15 11:41:08.211559\n",
      "2019-09-16 11:41:08.211559\n"
     ]
    }
   ],
   "source": [
    "# Set timeframe to pull data (1 year from today)\n",
    "lookback = 365\n",
    "dt_end = datetime.now()\n",
    "dt_start = datetime.now() - timedelta(days=lookback)\n",
    "print(dt_end)\n",
    "print(dt_start)"
   ]
  },
  {
   "cell_type": "code",
   "execution_count": 4,
   "metadata": {},
   "outputs": [
    {
     "name": "stdout",
     "output_type": "stream",
     "text": [
      "[*********************100%***********************]  505 of 505 completed\n",
      "\n",
      "2 Failed downloads:\n",
      "- BRK.B: No data found, symbol may be delisted\n",
      "- BF.B: No data found for this date range, symbol may be delisted\n",
      "                     A        AAL         AAP        AAPL       ABBV  \\\n",
      "Date                                                                   \n",
      "2019-09-16   76.466560  27.578360  154.972519   54.434902  65.843224   \n",
      "2019-09-17   75.723198  28.442356  154.972519   54.632942  66.794762   \n",
      "2019-09-18   76.882843  28.402632  152.708511   55.145359  66.486908   \n",
      "2019-09-19   77.378410  28.104702  151.784698   54.697304  66.860069   \n",
      "2019-09-20   77.279297  27.796841  154.655518   53.897728  67.531746   \n",
      "...                ...        ...         ...         ...        ...   \n",
      "2020-09-09   97.930000  13.050000  154.350006  117.320000  91.629997   \n",
      "2020-09-10   98.570000  13.010000  153.559998  113.489998  89.650002   \n",
      "2020-09-11   98.599998  12.950000  154.589996  112.000000  89.699997   \n",
      "2020-09-14   99.419998  13.260000  157.309998  115.360001  90.489998   \n",
      "2020-09-15  100.629997  13.308500  157.024994  117.559998  91.290001   \n",
      "\n",
      "                  ABC        ABMD         ABT         ACN        ADBE  ...  \\\n",
      "Date                                                                   ...   \n",
      "2019-09-16  82.282341  190.539993   82.010918  191.019928  282.929993  ...   \n",
      "2019-09-17  81.683319  190.539993   82.227356  191.797134  284.690002  ...   \n",
      "2019-09-18  81.506546  190.669998   82.286385  190.990402  279.720001  ...   \n",
      "2019-09-19  83.107216  192.320007   81.883026  191.521667  281.260010  ...   \n",
      "2019-09-20  83.588409  192.759995   82.227356  189.967224  277.910004  ...   \n",
      "...               ...         ...         ...         ...         ...  ...   \n",
      "2020-09-09  96.199997  277.929993  105.809998  238.910004  479.459991  ...   \n",
      "2020-09-10  94.269997  272.019989  104.000000  233.649994  476.260010  ...   \n",
      "2020-09-11  94.080002  269.769989  104.699997  234.770004  471.350006  ...   \n",
      "2020-09-14  94.599998  275.700012  105.690002  238.830002  485.910004  ...   \n",
      "2020-09-15  95.800003  282.700012  107.480003  240.699997  496.980011  ...   \n",
      "\n",
      "                  XLNX        XOM       XRAY        XRX        XYL  \\\n",
      "Date                                                                 \n",
      "2019-09-16  102.708931  69.091248  50.968075  29.707705  77.041527   \n",
      "2019-09-17  102.600693  68.566483  50.938339  29.392073  77.308014   \n",
      "2019-09-18  103.230392  68.238503  49.421787  29.248602  77.367233   \n",
      "2019-09-19  101.951332  67.779335  49.461437  28.885147  76.932961   \n",
      "2019-09-20   94.995186  67.545067  50.680622  28.349527  76.469101   \n",
      "...                ...        ...        ...        ...        ...   \n",
      "2020-09-09  100.389999  37.950001  44.230000  19.010000  83.410004   \n",
      "2020-09-10   98.800003  37.000000  43.720001  18.629999  82.019997   \n",
      "2020-09-11   98.650002  36.900002  44.160000  19.090000  84.550003   \n",
      "2020-09-14  101.720001  36.660000  45.900002  19.230000  84.209999   \n",
      "2020-09-15  103.790001  36.794102  46.465000  19.315001  84.339996   \n",
      "\n",
      "                   YUM         ZBH        ZBRA       ZION         ZTS  \n",
      "Date                                                                   \n",
      "2019-09-16  108.474281  136.575012  202.779999  43.617439  118.954910  \n",
      "2019-09-17  110.692039  137.745712  211.000000  42.999573  121.718994  \n",
      "2019-09-18  112.438782  138.311249  209.199997  43.520897  122.534302  \n",
      "2019-09-19  111.967735  138.559250  207.949997  43.038193  123.558411  \n",
      "2019-09-20  110.201385  140.900650  203.679993  42.970604  124.900681  \n",
      "...                ...         ...         ...        ...         ...  \n",
      "2020-09-09   93.389999  140.199997  255.110001  32.119999  158.910004  \n",
      "2020-09-10   92.349998  138.669998  249.440002  31.120001  158.100006  \n",
      "2020-09-11   92.269997  139.210007  249.960007  31.490000  158.589996  \n",
      "2020-09-14   92.870003  140.589996  251.259995  32.270000  160.860001  \n",
      "2020-09-15   94.194801  143.070007  258.450012  31.530001  162.679993  \n",
      "\n",
      "[253 rows x 505 columns]\n"
     ]
    }
   ],
   "source": [
    "# Pull daily close information for S&P500\n",
    "sp500_full=yf.download(sp500_list,dt_start,dt_end)['Adj Close']\n",
    "print(sp500_full.head(-1))"
   ]
  },
  {
   "cell_type": "code",
   "execution_count": null,
   "metadata": {},
   "outputs": [],
   "source": []
  }
 ],
 "metadata": {
  "kernelspec": {
   "display_name": "Python 3",
   "language": "python",
   "name": "python3"
  },
  "language_info": {
   "codemirror_mode": {
    "name": "ipython",
    "version": 3
   },
   "file_extension": ".py",
   "mimetype": "text/x-python",
   "name": "python",
   "nbconvert_exporter": "python",
   "pygments_lexer": "ipython3",
   "version": "3.8.3"
  }
 },
 "nbformat": 4,
 "nbformat_minor": 4
}
