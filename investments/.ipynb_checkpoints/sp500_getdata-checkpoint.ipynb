{
 "cells": [
  {
   "cell_type": "code",
   "execution_count": 1,
   "metadata": {},
   "outputs": [],
   "source": [
    "import pandas as pd\n",
    "import yfinance as yf\n",
    "from datetime import datetime, timedelta"
   ]
  },
  {
   "cell_type": "code",
   "execution_count": 2,
   "metadata": {
    "scrolled": true
   },
   "outputs": [
    {
     "name": "stdout",
     "output_type": "stream",
     "text": [
      "['A', 'AAL', 'AAP', 'AAPL', 'ABBV', 'ABC', 'ABMD', 'ABT', 'ACN', 'ADBE', 'ADI', 'ADM', 'ADP', 'ADSK', 'AEE', 'AEP', 'AES', 'AFL', 'AIG', 'AIV', 'AIZ', 'AJG', 'AKAM', 'ALB', 'ALGN', 'ALK', 'ALL', 'ALLE', 'ALXN', 'AMAT', 'AMCR', 'AMD', 'AME', 'AMGN', 'AMP', 'AMT', 'AMZN', 'ANET', 'ANSS', 'ANTM', 'AON', 'AOS', 'APA', 'APD', 'APH', 'APTV', 'ARE', 'ATO', 'ATVI', 'AVB', 'AVGO', 'AVY', 'AWK', 'AXP', 'AZO', 'BA', 'BAC', 'BAX', 'BBY', 'BDX', 'BEN', 'BF.B', 'BIIB', 'BIO', 'BK', 'BKNG', 'BKR', 'BLK', 'BLL', 'BMY', 'BR', 'BRK.B', 'BSX', 'BWA', 'BXP', 'C', 'CAG', 'CAH', 'CARR', 'CAT', 'CB', 'CBOE', 'CBRE', 'CCI', 'CCL', 'CDNS', 'CDW', 'CE', 'CERN', 'CF', 'CFG', 'CHD', 'CHRW', 'CHTR', 'CI', 'CINF', 'CL', 'CLX', 'CMA', 'CMCSA', 'CME', 'CMG', 'CMI', 'CMS', 'CNC', 'CNP', 'COF', 'COG', 'COO', 'COP', 'COST', 'COTY', 'CPB', 'CPRT', 'CRM', 'CSCO', 'CSX', 'CTAS', 'CTL', 'CTSH', 'CTVA', 'CTXS', 'CVS', 'CVX', 'CXO', 'D', 'DAL', 'DD', 'DE', 'DFS', 'DG', 'DGX', 'DHI', 'DHR', 'DIS', 'DISCA', 'DISCK', 'DISH', 'DLR', 'DLTR', 'DOV', 'DOW', 'DPZ', 'DRE', 'DRI', 'DTE', 'DUK', 'DVA', 'DVN', 'DXC', 'DXCM', 'EA', 'EBAY', 'ECL', 'ED', 'EFX', 'EIX', 'EL', 'EMN', 'EMR', 'EOG', 'EQIX', 'EQR', 'ES', 'ESS', 'ETFC', 'ETN', 'ETR', 'EVRG', 'EW', 'EXC', 'EXPD', 'EXPE', 'EXR', 'F', 'FANG', 'FAST', 'FB', 'FBHS', 'FCX', 'FDX', 'FE', 'FFIV', 'FIS', 'FISV', 'FITB', 'FLIR', 'FLS', 'FLT', 'FMC', 'FOX', 'FOXA', 'FRC', 'FRT', 'FTI', 'FTNT', 'FTV', 'GD', 'GE', 'GILD', 'GIS', 'GL', 'GLW', 'GM', 'GOOG', 'GOOGL', 'GPC', 'GPN', 'GPS', 'GRMN', 'GS', 'GWW', 'HAL', 'HAS', 'HBAN', 'HBI', 'HCA', 'HD', 'HES', 'HFC', 'HIG', 'HII', 'HLT', 'HOLX', 'HON', 'HPE', 'HPQ', 'HRB', 'HRL', 'HSIC', 'HST', 'HSY', 'HUM', 'HWM', 'IBM', 'ICE', 'IDXX', 'IEX', 'IFF', 'ILMN', 'INCY', 'INFO', 'INTC', 'INTU', 'IP', 'IPG', 'IPGP', 'IQV', 'IR', 'IRM', 'ISRG', 'IT', 'ITW', 'IVZ', 'J', 'JBHT', 'JCI', 'JKHY', 'JNJ', 'JNPR', 'JPM', 'K', 'KEY', 'KEYS', 'KHC', 'KIM', 'KLAC', 'KMB', 'KMI', 'KMX', 'KO', 'KR', 'KSS', 'KSU', 'L', 'LB', 'LDOS', 'LEG', 'LEN', 'LH', 'LHX', 'LIN', 'LKQ', 'LLY', 'LMT', 'LNC', 'LNT', 'LOW', 'LRCX', 'LUV', 'LVS', 'LW', 'LYB', 'LYV', 'MA', 'MAA', 'MAR', 'MAS', 'MCD', 'MCHP', 'MCK', 'MCO', 'MDLZ', 'MDT', 'MET', 'MGM', 'MHK', 'MKC', 'MKTX', 'MLM', 'MMC', 'MMM', 'MNST', 'MO', 'MOS', 'MPC', 'MRK', 'MRO', 'MS', 'MSCI', 'MSFT', 'MSI', 'MTB', 'MTD', 'MU', 'MXIM', 'MYL', 'NBL', 'NCLH', 'NDAQ', 'NEE', 'NEM', 'NFLX', 'NI', 'NKE', 'NLOK', 'NLSN', 'NOC', 'NOV', 'NOW', 'NRG', 'NSC', 'NTAP', 'NTRS', 'NUE', 'NVDA', 'NVR', 'NWL', 'NWS', 'NWSA', 'O', 'ODFL', 'OKE', 'OMC', 'ORCL', 'ORLY', 'OTIS', 'OXY', 'PAYC', 'PAYX', 'PBCT', 'PCAR', 'PEAK', 'PEG', 'PEP', 'PFE', 'PFG', 'PG', 'PGR', 'PH', 'PHM', 'PKG', 'PKI', 'PLD', 'PM', 'PNC', 'PNR', 'PNW', 'PPG', 'PPL', 'PRGO', 'PRU', 'PSA', 'PSX', 'PVH', 'PWR', 'PXD', 'PYPL', 'QCOM', 'QRVO', 'RCL', 'RE', 'REG', 'REGN', 'RF', 'RHI', 'RJF', 'RL', 'RMD', 'ROK', 'ROL', 'ROP', 'ROST', 'RSG', 'RTX', 'SBAC', 'SBUX', 'SCHW', 'SEE', 'SHW', 'SIVB', 'SJM', 'SLB', 'SLG', 'SNA', 'SNPS', 'SO', 'SPG', 'SPGI', 'SRE', 'STE', 'STT', 'STX', 'STZ', 'SWK', 'SWKS', 'SYF', 'SYK', 'SYY', 'T', 'TAP', 'TDG', 'TDY', 'TEL', 'TFC', 'TFX', 'TGT', 'TIF', 'TJX', 'TMO', 'TMUS', 'TPR', 'TROW', 'TRV', 'TSCO', 'TSN', 'TT', 'TTWO', 'TWTR', 'TXN', 'TXT', 'TYL', 'UA', 'UAA', 'UAL', 'UDR', 'UHS', 'ULTA', 'UNH', 'UNM', 'UNP', 'UPS', 'URI', 'USB', 'V', 'VAR', 'VFC', 'VIAC', 'VLO', 'VMC', 'VNO', 'VRSK', 'VRSN', 'VRTX', 'VTR', 'VZ', 'WAB', 'WAT', 'WBA', 'WDC', 'WEC', 'WELL', 'WFC', 'WHR', 'WLTW', 'WM', 'WMB', 'WMT', 'WRB', 'WRK', 'WST', 'WU', 'WY', 'WYNN', 'XEL', 'XLNX', 'XOM', 'XRAY', 'XRX', 'XYL', 'YUM', 'ZBH', 'ZBRA', 'ZION', 'ZTS']\n"
     ]
    }
   ],
   "source": [
    "sp500_df = pd.DataFrame()\n",
    "sp500_wiki = pd.read_html('https://en.wikipedia.org/wiki/List_of_S%26P_500_companies')\n",
    "sp500_df = sp500_wiki[0]\n",
    "sp500_list = sp500_df['Symbol'].tolist()\n",
    "sp500_list.sort()\n",
    "print(sp500_list)"
   ]
  },
  {
   "cell_type": "code",
   "execution_count": 3,
   "metadata": {},
   "outputs": [
    {
     "name": "stdout",
     "output_type": "stream",
     "text": [
      "2020-09-05 14:37:04.038951\n",
      "2019-09-06 14:37:04.038951\n"
     ]
    }
   ],
   "source": [
    "# Set timeframe to pull data (1 year from today)\n",
    "lookback = 365\n",
    "dt_end = datetime.now()\n",
    "dt_start = datetime.now() - timedelta(days=lookback)\n",
    "print(dt_end)\n",
    "print(dt_start)"
   ]
  },
  {
   "cell_type": "code",
   "execution_count": 4,
   "metadata": {},
   "outputs": [
    {
     "name": "stdout",
     "output_type": "stream",
     "text": [
      "[*********************100%***********************]  505 of 505 completed\n",
      "\n",
      "2 Failed downloads:\n",
      "- BRK.B: No data found, symbol may be delisted\n",
      "- BF.B: No data found for this date range, symbol may be delisted\n",
      "                     A        AAL         AAP        AAPL       ABBV  \\\n",
      "Date                                                                   \n",
      "2019-09-06   73.621986  27.598223  146.174805   52.791210  63.081871   \n",
      "2019-09-09   73.522873  28.243738  146.393234   53.016479  62.223614   \n",
      "2019-09-10   74.107643  28.919044  153.612137   53.642761  63.604290   \n",
      "2019-09-11   76.307976  29.554626  157.742874   55.348343  64.826378   \n",
      "2019-09-12   76.882843  29.733385  154.108612   55.224567  66.076447   \n",
      "...                ...        ...         ...         ...        ...   \n",
      "2020-08-28   99.900002  13.590000  154.770004  124.807503  94.169998   \n",
      "2020-08-31  100.419998  13.050000  156.309998  129.039993  95.769997   \n",
      "2020-09-01  101.120003  13.100000  156.389999  134.179993  92.239998   \n",
      "2020-09-02  103.419998  13.230000  158.100006  131.399994  93.949997   \n",
      "2020-09-03   99.639999  13.360000  155.179993  120.879997  91.870003   \n",
      "\n",
      "                  ABC        ABMD         ABT         ACN        ADBE  ...  \\\n",
      "Date                                                                   ...   \n",
      "2019-09-06  84.766815  189.429993   84.647545  197.867355  284.940002  ...   \n",
      "2019-09-09  85.562233  186.809998   82.857002  191.679092  279.299988  ...   \n",
      "2019-09-10  84.334732  191.820007   81.863350  186.592712  276.140015  ...   \n",
      "2019-09-11  86.210365  191.070007   83.152145  188.275055  277.779999  ...   \n",
      "2019-09-12  83.117043  188.020004   83.830978  192.357925  278.019989  ...   \n",
      "...               ...         ...         ...         ...         ...  ...   \n",
      "2020-08-28  97.550003  303.040009  110.790001  242.990005  516.440002  ...   \n",
      "2020-08-31  97.029999  307.619995  109.470001  239.929993  513.390015  ...   \n",
      "2020-09-01  94.300003  307.329987  106.550003  240.020004  527.950012  ...   \n",
      "2020-09-02  98.290001  312.730011  109.440002  247.179993  533.799988  ...   \n",
      "2020-09-03  97.580002  294.010010  105.529999  238.979996  507.799988  ...   \n",
      "\n",
      "                  XLNX        XOM       XRAY        XRX        XYL  \\\n",
      "Date                                                                 \n",
      "2019-09-06  104.233971  66.467415  50.244488  28.550388  77.367233   \n",
      "2019-09-09  103.810890  66.992172  50.393177  29.937256  76.488838   \n",
      "2019-09-10  105.001404  67.535690  50.740097  29.937256  77.327736   \n",
      "2019-09-11  103.358299  67.404495  50.680622  29.870302  78.255486   \n",
      "2019-09-12  103.338623  67.451355  51.275349  29.143391  77.051399   \n",
      "...                ...        ...        ...        ...        ...   \n",
      "2020-08-28  104.910004  40.689999  45.320000  19.530001  81.980003   \n",
      "2020-08-31  104.160004  39.939999  44.869999  18.860001  80.180000   \n",
      "2020-09-01  105.309998  39.430000  44.849998  18.510000  81.730003   \n",
      "2020-09-02  108.860001  39.189999  45.730000  18.740000  83.180000   \n",
      "2020-09-03  103.099998  39.110001  44.560001  18.370001  81.660004   \n",
      "\n",
      "                   YUM         ZBH        ZBRA       ZION         ZTS  \n",
      "Date                                                                   \n",
      "2019-09-06  116.982254  138.638611  202.729996  39.524075  127.694572  \n",
      "2019-09-09  115.608414  135.999588  196.809998  40.904617  125.934723  \n",
      "2019-09-10  113.115875  137.428253  192.639999  42.150005  122.325508  \n",
      "2019-09-11  111.673347  139.184265  197.419998  42.623058  120.008850  \n",
      "2019-09-12  111.153259  141.486008  197.279999  43.086460  120.993187  \n",
      "...                ...         ...         ...        ...         ...  \n",
      "2020-08-28   97.449997  141.669998  280.160004  33.020000  160.000000  \n",
      "2020-08-31   95.849998  140.880005  286.529999  32.160000  160.100006  \n",
      "2020-09-01   96.150002  140.479996  287.160004  32.189999  162.050003  \n",
      "2020-09-02   97.980003  142.970001  294.359985  32.389999  165.330002  \n",
      "2020-09-03   96.330002  140.520004  269.250000  32.490002  158.800003  \n",
      "\n",
      "[252 rows x 505 columns]\n"
     ]
    }
   ],
   "source": [
    "# Pull daily close information for S&P500\n",
    "sp500_full=yf.download(sp500_list,dt_start,dt_end)['Adj Close']\n",
    "print(sp500_full.head(-1))"
   ]
  },
  {
   "cell_type": "code",
   "execution_count": null,
   "metadata": {},
   "outputs": [],
   "source": []
  }
 ],
 "metadata": {
  "kernelspec": {
   "display_name": "Python 3",
   "language": "python",
   "name": "python3"
  },
  "language_info": {
   "codemirror_mode": {
    "name": "ipython",
    "version": 3
   },
   "file_extension": ".py",
   "mimetype": "text/x-python",
   "name": "python",
   "nbconvert_exporter": "python",
   "pygments_lexer": "ipython3",
   "version": "3.7.7"
  }
 },
 "nbformat": 4,
 "nbformat_minor": 4
}
