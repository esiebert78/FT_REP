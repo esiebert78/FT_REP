{
 "cells": [
  {
   "cell_type": "markdown",
   "metadata": {},
   "source": [
    "# News Headlines Sentiment\n",
    "\n",
    "Use the news api to pull the latest news articles for bitcoin and ethereum and create a DataFrame of sentiment scores for each coin. \n",
    "\n",
    "Use descriptive statistics to answer the following questions:\n",
    "1. Which coin had the highest mean positive score?\n",
    "2. Which coin had the highest negative score?\n",
    "3. Which coin had the highest positive score?"
   ]
  },
  {
   "cell_type": "code",
   "execution_count": 1,
   "metadata": {},
   "outputs": [],
   "source": [
    "# Initial imports\n",
    "import os\n",
    "import pandas as pd\n",
    "from dotenv import load_dotenv\n",
    "load_dotenv()\n",
    "from newsapi import NewsApiClient\n",
    "from nltk.sentiment.vader import SentimentIntensityAnalyzer\n",
    "analyzer = SentimentIntensityAnalyzer()\n",
    "\n",
    "%matplotlib inline"
   ]
  },
  {
   "cell_type": "code",
   "execution_count": 2,
   "metadata": {},
   "outputs": [],
   "source": [
    "# Read your api key environment variable\n",
    "api_key = os.getenv(\"news_api\")"
   ]
  },
  {
   "cell_type": "code",
   "execution_count": 3,
   "metadata": {},
   "outputs": [],
   "source": [
    "# Create a newsapi client\n",
    "newsapi = NewsApiClient(api_key=api_key)"
   ]
  },
  {
   "cell_type": "code",
   "execution_count": 8,
   "metadata": {
    "scrolled": true
   },
   "outputs": [
    {
     "name": "stdout",
     "output_type": "stream",
     "text": [
      "Total articles about oil: 4321\n"
     ]
    },
    {
     "data": {
      "text/plain": [
       "{'source': {'id': 'engadget', 'name': 'Engadget'},\n",
       " 'author': 'Nicole Lee',\n",
       " 'title': 'Tampa teenager arrested for Twitter Bitcoin hack',\n",
       " 'description': 'Authorities in Tampa, Florida have arrested a 17-year-old for being the alleged “mastermind” behind the Twitter Bitcoin hack that targeted several high-profile accounts on July 15th, 2020. His name has not been revealed due to his underage status. According t…',\n",
       " 'url': 'https://www.engadget.com/teenager-arrested-twitter-bitcoin-hack-183302700.html',\n",
       " 'urlToImage': 'https://o.aolcdn.com/images/dims?resize=1200%2C630&crop=1200%2C630%2C0%2C0&quality=95&image_uri=https%3A%2F%2Fs.yimg.com%2Fos%2Fcreatr-images%2F2020-07%2F80319ad0-c77f-11ea-adfe-d560f6400e1e&client=amp-blogside-v2&signature=3ae5e1a0ea67905f52a03c1a851c07fc1c61bdbb',\n",
       " 'publishedAt': '2020-07-31T18:33:02Z',\n",
       " 'content': 'Authorities in Tampa, Florida have arrested a 17-year-old for being the alleged “mastermind” behind the Twitter Bitcoin hack that targeted several high-profile accounts on July 15th, 2020. His name h… [+463 chars]'}"
      ]
     },
     "execution_count": 8,
     "metadata": {},
     "output_type": "execute_result"
    }
   ],
   "source": [
    "# Fetch the Bitcoin news articles\n",
    "btc_articles = newsapi.get_everything(q=\"bitcoin\", language=\"en\")\n",
    "# Total articles\n",
    "print(f\"Total articles about oil: {btc_articles['totalResults']}\")\n",
    "# Sample article\n",
    "btc_articles[\"articles\"][0]"
   ]
  },
  {
   "cell_type": "code",
   "execution_count": 32,
   "metadata": {
    "scrolled": true
   },
   "outputs": [
    {
     "name": "stdout",
     "output_type": "stream",
     "text": [
      "Total articles about oil: 1270\n"
     ]
    },
    {
     "data": {
      "text/plain": [
       "{'source': {'id': 'mashable', 'name': 'Mashable'},\n",
       " 'author': 'Joseph Green',\n",
       " 'title': 'Master blockchain with this cheap online course',\n",
       " 'description': \"TL;DR: The Mega Blockchain Mastery Bundle is on sale for £29.81 as of August 17, saving you 97% on list price.\\n\\nCash isn't necessarily king anymore. You've probably heard that cryptocurrency and blockchain technologies (which power things like Bitcoin and Eth…\",\n",
       " 'url': 'https://mashable.com/uk/shopping/aug-17-mega-blockchain-mastery-bundle/',\n",
       " 'urlToImage': 'https://mondrian.mashable.com/2020%252F08%252F17%252F40%252F5fe1250a25cd46bca29df0fa3c2e813f.4539c.png%252F1200x630.png?signature=PeH92TKb8dmntUe5Zygr2icxP4o=',\n",
       " 'publishedAt': '2020-08-17T04:00:00Z',\n",
       " 'content': \"TL;DR: The Mega Blockchain Mastery Bundle is on sale for £29.81 as of August 17, saving you 97% on list price.\\r\\nCash isn't necessarily king anymore. You've probably heard that cryptocurrency and bloc… [+1286 chars]\"}"
      ]
     },
     "execution_count": 32,
     "metadata": {},
     "output_type": "execute_result"
    }
   ],
   "source": [
    "# Fetch the Ethereum news articles\n",
    "eth_articles = newsapi.get_everything(\n",
    "    q='ethereum', \n",
    "    language='en',\n",
    "    page_size=100,\n",
    "    sort_by='relevancy'\n",
    ")\n",
    "# Total articles\n",
    "print(f\"Total articles about oil: {eth_articles['totalResults']}\")\n",
    "# Sample article\n",
    "eth_articles[\"articles\"][0]"
   ]
  },
  {
   "cell_type": "code",
   "execution_count": 35,
   "metadata": {},
   "outputs": [
    {
     "data": {
      "text/html": [
       "<div>\n",
       "<style scoped>\n",
       "    .dataframe tbody tr th:only-of-type {\n",
       "        vertical-align: middle;\n",
       "    }\n",
       "\n",
       "    .dataframe tbody tr th {\n",
       "        vertical-align: top;\n",
       "    }\n",
       "\n",
       "    .dataframe thead th {\n",
       "        text-align: right;\n",
       "    }\n",
       "</style>\n",
       "<table border=\"1\" class=\"dataframe\">\n",
       "  <thead>\n",
       "    <tr style=\"text-align: right;\">\n",
       "      <th></th>\n",
       "      <th>source</th>\n",
       "      <th>author</th>\n",
       "      <th>title</th>\n",
       "      <th>description</th>\n",
       "      <th>url</th>\n",
       "      <th>urlToImage</th>\n",
       "      <th>publishedAt</th>\n",
       "      <th>content</th>\n",
       "    </tr>\n",
       "  </thead>\n",
       "  <tbody>\n",
       "    <tr>\n",
       "      <th>0</th>\n",
       "      <td>{'id': 'engadget', 'name': 'Engadget'}</td>\n",
       "      <td>Nicole Lee</td>\n",
       "      <td>Tampa teenager arrested for Twitter Bitcoin hack</td>\n",
       "      <td>Authorities in Tampa, Florida have arrested a ...</td>\n",
       "      <td>https://www.engadget.com/teenager-arrested-twi...</td>\n",
       "      <td>https://o.aolcdn.com/images/dims?resize=1200%2...</td>\n",
       "      <td>2020-07-31T18:33:02Z</td>\n",
       "      <td>Authorities in Tampa, Florida have arrested a ...</td>\n",
       "    </tr>\n",
       "  </tbody>\n",
       "</table>\n",
       "</div>"
      ],
      "text/plain": [
       "                                   source      author  \\\n",
       "0  {'id': 'engadget', 'name': 'Engadget'}  Nicole Lee   \n",
       "\n",
       "                                              title  \\\n",
       "0  Tampa teenager arrested for Twitter Bitcoin hack   \n",
       "\n",
       "                                         description  \\\n",
       "0  Authorities in Tampa, Florida have arrested a ...   \n",
       "\n",
       "                                                 url  \\\n",
       "0  https://www.engadget.com/teenager-arrested-twi...   \n",
       "\n",
       "                                          urlToImage           publishedAt  \\\n",
       "0  https://o.aolcdn.com/images/dims?resize=1200%2...  2020-07-31T18:33:02Z   \n",
       "\n",
       "                                             content  \n",
       "0  Authorities in Tampa, Florida have arrested a ...  "
      ]
     },
     "execution_count": 35,
     "metadata": {},
     "output_type": "execute_result"
    }
   ],
   "source": [
    "# Bitcoin DataFrame\n",
    "btc_df = pd.DataFrame.from_dict(btc_articles[\"articles\"])\n",
    "btc_df.head(1)"
   ]
  },
  {
   "cell_type": "code",
   "execution_count": 36,
   "metadata": {
    "scrolled": true
   },
   "outputs": [
    {
     "data": {
      "text/html": [
       "<div>\n",
       "<style scoped>\n",
       "    .dataframe tbody tr th:only-of-type {\n",
       "        vertical-align: middle;\n",
       "    }\n",
       "\n",
       "    .dataframe tbody tr th {\n",
       "        vertical-align: top;\n",
       "    }\n",
       "\n",
       "    .dataframe thead th {\n",
       "        text-align: right;\n",
       "    }\n",
       "</style>\n",
       "<table border=\"1\" class=\"dataframe\">\n",
       "  <thead>\n",
       "    <tr style=\"text-align: right;\">\n",
       "      <th></th>\n",
       "      <th>date</th>\n",
       "      <th>text</th>\n",
       "      <th>compound</th>\n",
       "      <th>positive</th>\n",
       "      <th>negative</th>\n",
       "      <th>neutral</th>\n",
       "    </tr>\n",
       "  </thead>\n",
       "  <tbody>\n",
       "    <tr>\n",
       "      <th>0</th>\n",
       "      <td>2020-07-31</td>\n",
       "      <td>Authorities in Tampa, Florida have arrested a ...</td>\n",
       "      <td>-0.4767</td>\n",
       "      <td>0.000</td>\n",
       "      <td>0.094</td>\n",
       "      <td>0.906</td>\n",
       "    </tr>\n",
       "    <tr>\n",
       "      <th>1</th>\n",
       "      <td>2020-08-06</td>\n",
       "      <td>Casa, a Colorado-based provider of bitcoin sec...</td>\n",
       "      <td>0.5994</td>\n",
       "      <td>0.149</td>\n",
       "      <td>0.000</td>\n",
       "      <td>0.851</td>\n",
       "    </tr>\n",
       "    <tr>\n",
       "      <th>2</th>\n",
       "      <td>2020-08-01</td>\n",
       "      <td>On July 15, a Discord user with the handle Kir...</td>\n",
       "      <td>-0.4019</td>\n",
       "      <td>0.000</td>\n",
       "      <td>0.074</td>\n",
       "      <td>0.926</td>\n",
       "    </tr>\n",
       "    <tr>\n",
       "      <th>3</th>\n",
       "      <td>2020-08-03</td>\n",
       "      <td>In April, the Secret Service seized 100 Bitcoi...</td>\n",
       "      <td>0.0000</td>\n",
       "      <td>0.000</td>\n",
       "      <td>0.000</td>\n",
       "      <td>1.000</td>\n",
       "    </tr>\n",
       "    <tr>\n",
       "      <th>4</th>\n",
       "      <td>2020-08-06</td>\n",
       "      <td>The question still remained, though, whether a...</td>\n",
       "      <td>-0.0516</td>\n",
       "      <td>0.065</td>\n",
       "      <td>0.071</td>\n",
       "      <td>0.864</td>\n",
       "    </tr>\n",
       "    <tr>\n",
       "      <th>5</th>\n",
       "      <td>2020-08-04</td>\n",
       "      <td>A ransomware variant called NetWalker is doing...</td>\n",
       "      <td>0.5106</td>\n",
       "      <td>0.122</td>\n",
       "      <td>0.000</td>\n",
       "      <td>0.878</td>\n",
       "    </tr>\n",
       "    <tr>\n",
       "      <th>6</th>\n",
       "      <td>2020-07-31</td>\n",
       "      <td>Earlier this month a number of Twitter account...</td>\n",
       "      <td>0.6249</td>\n",
       "      <td>0.184</td>\n",
       "      <td>0.000</td>\n",
       "      <td>0.816</td>\n",
       "    </tr>\n",
       "    <tr>\n",
       "      <th>7</th>\n",
       "      <td>2020-07-31</td>\n",
       "      <td>Hillsborough State Attorney Andrew Warren anno...</td>\n",
       "      <td>-0.6808</td>\n",
       "      <td>0.000</td>\n",
       "      <td>0.157</td>\n",
       "      <td>0.843</td>\n",
       "    </tr>\n",
       "    <tr>\n",
       "      <th>8</th>\n",
       "      <td>2020-08-23</td>\n",
       "      <td>“The COVID-19 pandemic has resulted in a mass ...</td>\n",
       "      <td>0.2732</td>\n",
       "      <td>0.063</td>\n",
       "      <td>0.000</td>\n",
       "      <td>0.937</td>\n",
       "    </tr>\n",
       "    <tr>\n",
       "      <th>9</th>\n",
       "      <td>2020-07-31</td>\n",
       "      <td>(CNN)A teenager in Tampa was arrested and char...</td>\n",
       "      <td>-0.0258</td>\n",
       "      <td>0.118</td>\n",
       "      <td>0.120</td>\n",
       "      <td>0.762</td>\n",
       "    </tr>\n",
       "    <tr>\n",
       "      <th>10</th>\n",
       "      <td>2020-08-07</td>\n",
       "      <td>In what appears to be a massive coordinated st...</td>\n",
       "      <td>-0.1280</td>\n",
       "      <td>0.000</td>\n",
       "      <td>0.046</td>\n",
       "      <td>0.954</td>\n",
       "    </tr>\n",
       "    <tr>\n",
       "      <th>11</th>\n",
       "      <td>2020-07-31</td>\n",
       "      <td>Image caption\\r\\n Elon Musk, Kim Kardashian an...</td>\n",
       "      <td>-0.6597</td>\n",
       "      <td>0.000</td>\n",
       "      <td>0.144</td>\n",
       "      <td>0.856</td>\n",
       "    </tr>\n",
       "    <tr>\n",
       "      <th>12</th>\n",
       "      <td>2020-08-17</td>\n",
       "      <td>LONDON (Reuters) - Bitcoin jumped to its highe...</td>\n",
       "      <td>0.3818</td>\n",
       "      <td>0.069</td>\n",
       "      <td>0.000</td>\n",
       "      <td>0.931</td>\n",
       "    </tr>\n",
       "    <tr>\n",
       "      <th>13</th>\n",
       "      <td>2020-08-26</td>\n",
       "      <td>Our robot colleague Satoshi Nakaboto writes ab...</td>\n",
       "      <td>0.5070</td>\n",
       "      <td>0.090</td>\n",
       "      <td>0.000</td>\n",
       "      <td>0.910</td>\n",
       "    </tr>\n",
       "    <tr>\n",
       "      <th>14</th>\n",
       "      <td>2020-08-17</td>\n",
       "      <td>Our robot colleague Satoshi Nakaboto writes ab...</td>\n",
       "      <td>0.5070</td>\n",
       "      <td>0.090</td>\n",
       "      <td>0.000</td>\n",
       "      <td>0.910</td>\n",
       "    </tr>\n",
       "    <tr>\n",
       "      <th>15</th>\n",
       "      <td>2020-08-20</td>\n",
       "      <td>Our robot colleague Satoshi Nakaboto writes ab...</td>\n",
       "      <td>0.5070</td>\n",
       "      <td>0.090</td>\n",
       "      <td>0.000</td>\n",
       "      <td>0.910</td>\n",
       "    </tr>\n",
       "    <tr>\n",
       "      <th>16</th>\n",
       "      <td>2020-08-05</td>\n",
       "      <td>Pranksters disrupted judicial hearings on Wedn...</td>\n",
       "      <td>0.3182</td>\n",
       "      <td>0.073</td>\n",
       "      <td>0.000</td>\n",
       "      <td>0.927</td>\n",
       "    </tr>\n",
       "    <tr>\n",
       "      <th>17</th>\n",
       "      <td>2020-08-18</td>\n",
       "      <td>Our robot colleague Satoshi Nakaboto writes ab...</td>\n",
       "      <td>0.5070</td>\n",
       "      <td>0.090</td>\n",
       "      <td>0.000</td>\n",
       "      <td>0.910</td>\n",
       "    </tr>\n",
       "    <tr>\n",
       "      <th>18</th>\n",
       "      <td>2020-08-24</td>\n",
       "      <td>Our robot colleague Satoshi Nakaboto writes ab...</td>\n",
       "      <td>0.5070</td>\n",
       "      <td>0.090</td>\n",
       "      <td>0.000</td>\n",
       "      <td>0.910</td>\n",
       "    </tr>\n",
       "  </tbody>\n",
       "</table>\n",
       "</div>"
      ],
      "text/plain": [
       "          date                                               text  compound  \\\n",
       "0   2020-07-31  Authorities in Tampa, Florida have arrested a ...   -0.4767   \n",
       "1   2020-08-06  Casa, a Colorado-based provider of bitcoin sec...    0.5994   \n",
       "2   2020-08-01  On July 15, a Discord user with the handle Kir...   -0.4019   \n",
       "3   2020-08-03  In April, the Secret Service seized 100 Bitcoi...    0.0000   \n",
       "4   2020-08-06  The question still remained, though, whether a...   -0.0516   \n",
       "5   2020-08-04  A ransomware variant called NetWalker is doing...    0.5106   \n",
       "6   2020-07-31  Earlier this month a number of Twitter account...    0.6249   \n",
       "7   2020-07-31  Hillsborough State Attorney Andrew Warren anno...   -0.6808   \n",
       "8   2020-08-23  “The COVID-19 pandemic has resulted in a mass ...    0.2732   \n",
       "9   2020-07-31  (CNN)A teenager in Tampa was arrested and char...   -0.0258   \n",
       "10  2020-08-07  In what appears to be a massive coordinated st...   -0.1280   \n",
       "11  2020-07-31  Image caption\\r\\n Elon Musk, Kim Kardashian an...   -0.6597   \n",
       "12  2020-08-17  LONDON (Reuters) - Bitcoin jumped to its highe...    0.3818   \n",
       "13  2020-08-26  Our robot colleague Satoshi Nakaboto writes ab...    0.5070   \n",
       "14  2020-08-17  Our robot colleague Satoshi Nakaboto writes ab...    0.5070   \n",
       "15  2020-08-20  Our robot colleague Satoshi Nakaboto writes ab...    0.5070   \n",
       "16  2020-08-05  Pranksters disrupted judicial hearings on Wedn...    0.3182   \n",
       "17  2020-08-18  Our robot colleague Satoshi Nakaboto writes ab...    0.5070   \n",
       "18  2020-08-24  Our robot colleague Satoshi Nakaboto writes ab...    0.5070   \n",
       "\n",
       "    positive  negative  neutral  \n",
       "0      0.000     0.094    0.906  \n",
       "1      0.149     0.000    0.851  \n",
       "2      0.000     0.074    0.926  \n",
       "3      0.000     0.000    1.000  \n",
       "4      0.065     0.071    0.864  \n",
       "5      0.122     0.000    0.878  \n",
       "6      0.184     0.000    0.816  \n",
       "7      0.000     0.157    0.843  \n",
       "8      0.063     0.000    0.937  \n",
       "9      0.118     0.120    0.762  \n",
       "10     0.000     0.046    0.954  \n",
       "11     0.000     0.144    0.856  \n",
       "12     0.069     0.000    0.931  \n",
       "13     0.090     0.000    0.910  \n",
       "14     0.090     0.000    0.910  \n",
       "15     0.090     0.000    0.910  \n",
       "16     0.073     0.000    0.927  \n",
       "17     0.090     0.000    0.910  \n",
       "18     0.090     0.000    0.910  "
      ]
     },
     "execution_count": 36,
     "metadata": {},
     "output_type": "execute_result"
    }
   ],
   "source": [
    "# Bitcoin sentiment scores DataFrame\n",
    "btc_sentiments = []\n",
    "for article in btc_articles['articles']:\n",
    "    try:\n",
    "        text = article['content']\n",
    "        date = article['publishedAt'][:10]\n",
    "        sentiment = analyzer.polarity_scores(text)\n",
    "        compound = sentiment['compound']\n",
    "        pos = sentiment['pos']\n",
    "        neu = sentiment['neu']\n",
    "        neg = sentiment['neg']\n",
    "        \n",
    "        btc_sentiments.append({\n",
    "            'text': text,\n",
    "            'date': date,\n",
    "            'compound': compound,\n",
    "            'positive': pos,\n",
    "            'negative': neg,\n",
    "            'neutral': neu  \n",
    "        })\n",
    "    except AttributeError:\n",
    "        pass\n",
    "# Create DataFrame\n",
    "btc_df = pd.DataFrame(btc_sentiments)\n",
    "# Order DataFrame columns\n",
    "cols = ['date','text','compound','positive','negative','neutral']\n",
    "btc_df = btc_df[cols]\n",
    "btc_df.head(-1)"
   ]
  },
  {
   "cell_type": "code",
   "execution_count": 39,
   "metadata": {
    "scrolled": true
   },
   "outputs": [
    {
     "data": {
      "text/html": [
       "<div>\n",
       "<style scoped>\n",
       "    .dataframe tbody tr th:only-of-type {\n",
       "        vertical-align: middle;\n",
       "    }\n",
       "\n",
       "    .dataframe tbody tr th {\n",
       "        vertical-align: top;\n",
       "    }\n",
       "\n",
       "    .dataframe thead th {\n",
       "        text-align: right;\n",
       "    }\n",
       "</style>\n",
       "<table border=\"1\" class=\"dataframe\">\n",
       "  <thead>\n",
       "    <tr style=\"text-align: right;\">\n",
       "      <th></th>\n",
       "      <th>date</th>\n",
       "      <th>text</th>\n",
       "      <th>compound</th>\n",
       "      <th>positive</th>\n",
       "      <th>negative</th>\n",
       "      <th>neutral</th>\n",
       "    </tr>\n",
       "  </thead>\n",
       "  <tbody>\n",
       "    <tr>\n",
       "      <th>0</th>\n",
       "      <td>2020-08-17</td>\n",
       "      <td>TL;DR: The Mega Blockchain Mastery Bundle is o...</td>\n",
       "      <td>0.0000</td>\n",
       "      <td>0.000</td>\n",
       "      <td>0.000</td>\n",
       "      <td>1.000</td>\n",
       "    </tr>\n",
       "    <tr>\n",
       "      <th>1</th>\n",
       "      <td>2020-08-26</td>\n",
       "      <td>LONDON (Reuters) - It sounds like a surefire b...</td>\n",
       "      <td>0.7579</td>\n",
       "      <td>0.181</td>\n",
       "      <td>0.000</td>\n",
       "      <td>0.819</td>\n",
       "    </tr>\n",
       "    <tr>\n",
       "      <th>2</th>\n",
       "      <td>2020-08-25</td>\n",
       "      <td>NEW YORK (Reuters) - Brooklyn-based technology...</td>\n",
       "      <td>0.0000</td>\n",
       "      <td>0.000</td>\n",
       "      <td>0.000</td>\n",
       "      <td>1.000</td>\n",
       "    </tr>\n",
       "    <tr>\n",
       "      <th>3</th>\n",
       "      <td>2020-08-19</td>\n",
       "      <td>An outspoken Bitcoin whale who rarely shows af...</td>\n",
       "      <td>-0.2677</td>\n",
       "      <td>0.045</td>\n",
       "      <td>0.074</td>\n",
       "      <td>0.881</td>\n",
       "    </tr>\n",
       "    <tr>\n",
       "      <th>4</th>\n",
       "      <td>2020-08-14</td>\n",
       "      <td>REUTERS/Rick Wilking\\r\\n&lt;ul&gt;&lt;li&gt;Michael Novogr...</td>\n",
       "      <td>0.3400</td>\n",
       "      <td>0.072</td>\n",
       "      <td>0.000</td>\n",
       "      <td>0.928</td>\n",
       "    </tr>\n",
       "    <tr>\n",
       "      <th>...</th>\n",
       "      <td>...</td>\n",
       "      <td>...</td>\n",
       "      <td>...</td>\n",
       "      <td>...</td>\n",
       "      <td>...</td>\n",
       "      <td>...</td>\n",
       "    </tr>\n",
       "    <tr>\n",
       "      <th>90</th>\n",
       "      <td>2020-08-07</td>\n",
       "      <td>Ethereum Classic’s second 51% attack Thursday ...</td>\n",
       "      <td>0.1779</td>\n",
       "      <td>0.164</td>\n",
       "      <td>0.144</td>\n",
       "      <td>0.692</td>\n",
       "    </tr>\n",
       "    <tr>\n",
       "      <th>91</th>\n",
       "      <td>2020-08-10</td>\n",
       "      <td>With the price of bitcoin knocking on $12K, Co...</td>\n",
       "      <td>0.0000</td>\n",
       "      <td>0.000</td>\n",
       "      <td>0.000</td>\n",
       "      <td>1.000</td>\n",
       "    </tr>\n",
       "    <tr>\n",
       "      <th>92</th>\n",
       "      <td>2020-08-14</td>\n",
       "      <td>What happened\\r\\nShares of Ebang International...</td>\n",
       "      <td>0.2960</td>\n",
       "      <td>0.075</td>\n",
       "      <td>0.000</td>\n",
       "      <td>0.925</td>\n",
       "    </tr>\n",
       "    <tr>\n",
       "      <th>93</th>\n",
       "      <td>2020-08-27</td>\n",
       "      <td>Decentralized finance (DeFi) continues to expa...</td>\n",
       "      <td>0.6124</td>\n",
       "      <td>0.152</td>\n",
       "      <td>0.000</td>\n",
       "      <td>0.848</td>\n",
       "    </tr>\n",
       "    <tr>\n",
       "      <th>94</th>\n",
       "      <td>2020-08-24</td>\n",
       "      <td>Chainlink (LINK) has been going absolutely par...</td>\n",
       "      <td>-0.1531</td>\n",
       "      <td>0.000</td>\n",
       "      <td>0.048</td>\n",
       "      <td>0.952</td>\n",
       "    </tr>\n",
       "  </tbody>\n",
       "</table>\n",
       "<p>95 rows × 6 columns</p>\n",
       "</div>"
      ],
      "text/plain": [
       "          date                                               text  compound  \\\n",
       "0   2020-08-17  TL;DR: The Mega Blockchain Mastery Bundle is o...    0.0000   \n",
       "1   2020-08-26  LONDON (Reuters) - It sounds like a surefire b...    0.7579   \n",
       "2   2020-08-25  NEW YORK (Reuters) - Brooklyn-based technology...    0.0000   \n",
       "3   2020-08-19  An outspoken Bitcoin whale who rarely shows af...   -0.2677   \n",
       "4   2020-08-14  REUTERS/Rick Wilking\\r\\n<ul><li>Michael Novogr...    0.3400   \n",
       "..         ...                                                ...       ...   \n",
       "90  2020-08-07  Ethereum Classic’s second 51% attack Thursday ...    0.1779   \n",
       "91  2020-08-10  With the price of bitcoin knocking on $12K, Co...    0.0000   \n",
       "92  2020-08-14  What happened\\r\\nShares of Ebang International...    0.2960   \n",
       "93  2020-08-27  Decentralized finance (DeFi) continues to expa...    0.6124   \n",
       "94  2020-08-24  Chainlink (LINK) has been going absolutely par...   -0.1531   \n",
       "\n",
       "    positive  negative  neutral  \n",
       "0      0.000     0.000    1.000  \n",
       "1      0.181     0.000    0.819  \n",
       "2      0.000     0.000    1.000  \n",
       "3      0.045     0.074    0.881  \n",
       "4      0.072     0.000    0.928  \n",
       "..       ...       ...      ...  \n",
       "90     0.164     0.144    0.692  \n",
       "91     0.000     0.000    1.000  \n",
       "92     0.075     0.000    0.925  \n",
       "93     0.152     0.000    0.848  \n",
       "94     0.000     0.048    0.952  \n",
       "\n",
       "[95 rows x 6 columns]"
      ]
     },
     "execution_count": 39,
     "metadata": {},
     "output_type": "execute_result"
    }
   ],
   "source": [
    "# Create the ethereum sentiment scores DataFrame\n",
    "eth_sentiments = []\n",
    "for article in eth_articles['articles']:\n",
    "    try:\n",
    "        text = article['content']\n",
    "        date = article['publishedAt'][:10]\n",
    "        sentiment = analyzer.polarity_scores(text)\n",
    "        compound = sentiment['compound']\n",
    "        pos = sentiment['pos']\n",
    "        neu = sentiment['neu']\n",
    "        neg = sentiment['neg']\n",
    "        \n",
    "        eth_sentiments.append({\n",
    "            'text': text,\n",
    "            'date': date,\n",
    "            'compound': compound,\n",
    "            'positive': pos,\n",
    "            'negative': neg,\n",
    "            'neutral': neu  \n",
    "        })\n",
    "    except AttributeError:\n",
    "        pass\n",
    "# Create DataFrame\n",
    "eth_df = pd.DataFrame(eth_sentiments)\n",
    "# Order DataFrame columns\n",
    "cols = ['date','text','compound','positive','negative','neutral']\n",
    "eth_df = eth_df[cols]\n",
    "eth_df.head(-1)"
   ]
  },
  {
   "cell_type": "code",
   "execution_count": 43,
   "metadata": {},
   "outputs": [
    {
     "data": {
      "text/html": [
       "<div>\n",
       "<style scoped>\n",
       "    .dataframe tbody tr th:only-of-type {\n",
       "        vertical-align: middle;\n",
       "    }\n",
       "\n",
       "    .dataframe tbody tr th {\n",
       "        vertical-align: top;\n",
       "    }\n",
       "\n",
       "    .dataframe thead th {\n",
       "        text-align: right;\n",
       "    }\n",
       "</style>\n",
       "<table border=\"1\" class=\"dataframe\">\n",
       "  <thead>\n",
       "    <tr style=\"text-align: right;\">\n",
       "      <th></th>\n",
       "      <th>compound</th>\n",
       "      <th>positive</th>\n",
       "      <th>negative</th>\n",
       "      <th>neutral</th>\n",
       "    </tr>\n",
       "  </thead>\n",
       "  <tbody>\n",
       "    <tr>\n",
       "      <th>count</th>\n",
       "      <td>20.000000</td>\n",
       "      <td>20.000000</td>\n",
       "      <td>20.00000</td>\n",
       "      <td>20.00000</td>\n",
       "    </tr>\n",
       "    <tr>\n",
       "      <th>mean</th>\n",
       "      <td>0.183730</td>\n",
       "      <td>0.077000</td>\n",
       "      <td>0.03530</td>\n",
       "      <td>0.88770</td>\n",
       "    </tr>\n",
       "    <tr>\n",
       "      <th>std</th>\n",
       "      <td>0.454846</td>\n",
       "      <td>0.063035</td>\n",
       "      <td>0.05445</td>\n",
       "      <td>0.05650</td>\n",
       "    </tr>\n",
       "    <tr>\n",
       "      <th>min</th>\n",
       "      <td>-0.680800</td>\n",
       "      <td>0.000000</td>\n",
       "      <td>0.00000</td>\n",
       "      <td>0.76200</td>\n",
       "    </tr>\n",
       "    <tr>\n",
       "      <th>25%</th>\n",
       "      <td>-0.070700</td>\n",
       "      <td>0.000000</td>\n",
       "      <td>0.00000</td>\n",
       "      <td>0.85475</td>\n",
       "    </tr>\n",
       "    <tr>\n",
       "      <th>50%</th>\n",
       "      <td>0.350000</td>\n",
       "      <td>0.081500</td>\n",
       "      <td>0.00000</td>\n",
       "      <td>0.90800</td>\n",
       "    </tr>\n",
       "    <tr>\n",
       "      <th>75%</th>\n",
       "      <td>0.507900</td>\n",
       "      <td>0.119000</td>\n",
       "      <td>0.07175</td>\n",
       "      <td>0.92625</td>\n",
       "    </tr>\n",
       "    <tr>\n",
       "      <th>max</th>\n",
       "      <td>0.750600</td>\n",
       "      <td>0.198000</td>\n",
       "      <td>0.15700</td>\n",
       "      <td>1.00000</td>\n",
       "    </tr>\n",
       "  </tbody>\n",
       "</table>\n",
       "</div>"
      ],
      "text/plain": [
       "        compound   positive  negative   neutral\n",
       "count  20.000000  20.000000  20.00000  20.00000\n",
       "mean    0.183730   0.077000   0.03530   0.88770\n",
       "std     0.454846   0.063035   0.05445   0.05650\n",
       "min    -0.680800   0.000000   0.00000   0.76200\n",
       "25%    -0.070700   0.000000   0.00000   0.85475\n",
       "50%     0.350000   0.081500   0.00000   0.90800\n",
       "75%     0.507900   0.119000   0.07175   0.92625\n",
       "max     0.750600   0.198000   0.15700   1.00000"
      ]
     },
     "execution_count": 43,
     "metadata": {},
     "output_type": "execute_result"
    }
   ],
   "source": [
    "# Describe the Bitcoin Sentiment\n",
    "btc_df.describe()"
   ]
  },
  {
   "cell_type": "code",
   "execution_count": 44,
   "metadata": {},
   "outputs": [
    {
     "data": {
      "text/html": [
       "<div>\n",
       "<style scoped>\n",
       "    .dataframe tbody tr th:only-of-type {\n",
       "        vertical-align: middle;\n",
       "    }\n",
       "\n",
       "    .dataframe tbody tr th {\n",
       "        vertical-align: top;\n",
       "    }\n",
       "\n",
       "    .dataframe thead th {\n",
       "        text-align: right;\n",
       "    }\n",
       "</style>\n",
       "<table border=\"1\" class=\"dataframe\">\n",
       "  <thead>\n",
       "    <tr style=\"text-align: right;\">\n",
       "      <th></th>\n",
       "      <th>compound</th>\n",
       "      <th>positive</th>\n",
       "      <th>negative</th>\n",
       "      <th>neutral</th>\n",
       "    </tr>\n",
       "  </thead>\n",
       "  <tbody>\n",
       "    <tr>\n",
       "      <th>count</th>\n",
       "      <td>96.000000</td>\n",
       "      <td>96.000000</td>\n",
       "      <td>96.000000</td>\n",
       "      <td>96.000000</td>\n",
       "    </tr>\n",
       "    <tr>\n",
       "      <th>mean</th>\n",
       "      <td>0.095785</td>\n",
       "      <td>0.060698</td>\n",
       "      <td>0.040188</td>\n",
       "      <td>0.899125</td>\n",
       "    </tr>\n",
       "    <tr>\n",
       "      <th>std</th>\n",
       "      <td>0.407140</td>\n",
       "      <td>0.064925</td>\n",
       "      <td>0.058707</td>\n",
       "      <td>0.081009</td>\n",
       "    </tr>\n",
       "    <tr>\n",
       "      <th>min</th>\n",
       "      <td>-0.851900</td>\n",
       "      <td>0.000000</td>\n",
       "      <td>0.000000</td>\n",
       "      <td>0.692000</td>\n",
       "    </tr>\n",
       "    <tr>\n",
       "      <th>25%</th>\n",
       "      <td>-0.102700</td>\n",
       "      <td>0.000000</td>\n",
       "      <td>0.000000</td>\n",
       "      <td>0.851000</td>\n",
       "    </tr>\n",
       "    <tr>\n",
       "      <th>50%</th>\n",
       "      <td>0.000000</td>\n",
       "      <td>0.060000</td>\n",
       "      <td>0.000000</td>\n",
       "      <td>0.913000</td>\n",
       "    </tr>\n",
       "    <tr>\n",
       "      <th>75%</th>\n",
       "      <td>0.421500</td>\n",
       "      <td>0.090250</td>\n",
       "      <td>0.072000</td>\n",
       "      <td>0.952000</td>\n",
       "    </tr>\n",
       "    <tr>\n",
       "      <th>max</th>\n",
       "      <td>0.817600</td>\n",
       "      <td>0.270000</td>\n",
       "      <td>0.262000</td>\n",
       "      <td>1.000000</td>\n",
       "    </tr>\n",
       "  </tbody>\n",
       "</table>\n",
       "</div>"
      ],
      "text/plain": [
       "        compound   positive   negative    neutral\n",
       "count  96.000000  96.000000  96.000000  96.000000\n",
       "mean    0.095785   0.060698   0.040188   0.899125\n",
       "std     0.407140   0.064925   0.058707   0.081009\n",
       "min    -0.851900   0.000000   0.000000   0.692000\n",
       "25%    -0.102700   0.000000   0.000000   0.851000\n",
       "50%     0.000000   0.060000   0.000000   0.913000\n",
       "75%     0.421500   0.090250   0.072000   0.952000\n",
       "max     0.817600   0.270000   0.262000   1.000000"
      ]
     },
     "execution_count": 44,
     "metadata": {},
     "output_type": "execute_result"
    }
   ],
   "source": [
    "# Describe the Ethereum Sentiment\n",
    "eth_df.describe()"
   ]
  },
  {
   "cell_type": "markdown",
   "metadata": {},
   "source": [
    "### Questions:\n",
    "\n",
    "Q: Which coin had the highest mean positive score?\n",
    "\n",
    "    A: Bitcoin: .077\n",
    "\n",
    "Q: Which coin had the highest compound score?\n",
    "\n",
    "    A: Ethereum: .8176\n",
    "\n",
    "Q. Which coin had the highest positive score?\n",
    "\n",
    "    A: Ethereum: .27"
   ]
  },
  {
   "cell_type": "markdown",
   "metadata": {},
   "source": [
    "---"
   ]
  },
  {
   "cell_type": "markdown",
   "metadata": {},
   "source": [
    "# Tokenizer\n",
    "\n",
    "In this section, you will use NLTK and Python to tokenize the text for each coin. Be sure to:\n",
    "1. Lowercase each word\n",
    "2. Remove Punctuation\n",
    "3. Remove Stopwords"
   ]
  },
  {
   "cell_type": "code",
   "execution_count": 14,
   "metadata": {},
   "outputs": [],
   "source": [
    "from nltk.tokenize import word_tokenize, sent_tokenize\n",
    "from nltk.corpus import stopwords\n",
    "from nltk.stem import WordNetLemmatizer, PorterStemmer\n",
    "from string import punctuation\n",
    "import re"
   ]
  },
  {
   "cell_type": "code",
   "execution_count": 15,
   "metadata": {},
   "outputs": [
    {
     "name": "stdout",
     "output_type": "stream",
     "text": [
      "['i', 'me', 'my', 'myself', 'we', 'our', 'ours', 'ourselves', 'you', \"you're\", \"you've\", \"you'll\", \"you'd\", 'your', 'yours', 'yourself', 'yourselves', 'he', 'him', 'his', 'himself', 'she', \"she's\", 'her', 'hers', 'herself', 'it', \"it's\", 'its', 'itself', 'they', 'them', 'their', 'theirs', 'themselves', 'what', 'which', 'who', 'whom', 'this', 'that', \"that'll\", 'these', 'those', 'am', 'is', 'are', 'was', 'were', 'be', 'been', 'being', 'have', 'has', 'had', 'having', 'do', 'does', 'did', 'doing', 'a', 'an', 'the', 'and', 'but', 'if', 'or', 'because', 'as', 'until', 'while', 'of', 'at', 'by', 'for', 'with', 'about', 'against', 'between', 'into', 'through', 'during', 'before', 'after', 'above', 'below', 'to', 'from', 'up', 'down', 'in', 'out', 'on', 'off', 'over', 'under', 'again', 'further', 'then', 'once', 'here', 'there', 'when', 'where', 'why', 'how', 'all', 'any', 'both', 'each', 'few', 'more', 'most', 'other', 'some', 'such', 'no', 'nor', 'not', 'only', 'own', 'same', 'so', 'than', 'too', 'very', 's', 't', 'can', 'will', 'just', 'don', \"don't\", 'should', \"should've\", 'now', 'd', 'll', 'm', 'o', 're', 've', 'y', 'ain', 'aren', \"aren't\", 'couldn', \"couldn't\", 'didn', \"didn't\", 'doesn', \"doesn't\", 'hadn', \"hadn't\", 'hasn', \"hasn't\", 'haven', \"haven't\", 'isn', \"isn't\", 'ma', 'mightn', \"mightn't\", 'mustn', \"mustn't\", 'needn', \"needn't\", 'shan', \"shan't\", 'shouldn', \"shouldn't\", 'wasn', \"wasn't\", 'weren', \"weren't\", 'won', \"won't\", 'wouldn', \"wouldn't\"]\n"
     ]
    }
   ],
   "source": [
    "# Expand the default stopwords list if necessary\n",
    "print(stopwords.words('english'))"
   ]
  },
  {
   "cell_type": "code",
   "execution_count": 27,
   "metadata": {},
   "outputs": [],
   "source": [
    "lemmatizer = WordNetLemmatizer()"
   ]
  },
  {
   "cell_type": "code",
   "execution_count": 42,
   "metadata": {},
   "outputs": [],
   "source": [
    "article = btc_articles['articles'][0]['description']"
   ]
  },
  {
   "cell_type": "code",
   "execution_count": 43,
   "metadata": {},
   "outputs": [],
   "source": [
    "# Define function\n",
    "def process_text(article):\n",
    "    sw = set(stopwords.words('english'))\n",
    "    regex = re.compile(\"[^a-zA-Z ]\")\n",
    "    re_clean = regex.sub('', article)\n",
    "    words = word_tokenize(re_clean)\n",
    "    lem = [lemmatizer.lemmatize(word) for word in words]\n",
    "    tokens = [word.lower() for word in lem if word.lower() not in sw]\n",
    "    return tokens"
   ]
  },
  {
   "cell_type": "code",
   "execution_count": 46,
   "metadata": {},
   "outputs": [
    {
     "data": {
      "text/plain": [
       "['authorities',\n",
       " 'tampa',\n",
       " 'florida',\n",
       " 'arrested',\n",
       " 'yearold',\n",
       " 'alleged',\n",
       " 'mastermind',\n",
       " 'behind',\n",
       " 'twitter',\n",
       " 'bitcoin',\n",
       " 'hack',\n",
       " 'targeted',\n",
       " 'several',\n",
       " 'highprofile',\n",
       " 'account',\n",
       " 'july',\n",
       " 'th',\n",
       " 'name',\n",
       " 'ha',\n",
       " 'revealed',\n",
       " 'due',\n",
       " 'underage',\n",
       " 'status',\n",
       " 'according']"
      ]
     },
     "execution_count": 46,
     "metadata": {},
     "output_type": "execute_result"
    }
   ],
   "source": [
    "process_text(article)"
   ]
  },
  {
   "cell_type": "markdown",
   "metadata": {},
   "source": [
    "---"
   ]
  },
  {
   "cell_type": "markdown",
   "metadata": {},
   "source": [
    "# NGrams and Frequency Analysis\n",
    "\n",
    "In this section you will look at the ngrams and word frequency for each coin. \n",
    "\n",
    "1. Use NLTK to produce the n-grams for N = 2. \n",
    "2. List the top 10 words for each coin. "
   ]
  },
  {
   "cell_type": "code",
   "execution_count": 53,
   "metadata": {},
   "outputs": [],
   "source": [
    "from collections import Counter\n",
    "from nltk import ngrams"
   ]
  },
  {
   "cell_type": "code",
   "execution_count": 54,
   "metadata": {},
   "outputs": [
    {
     "name": "stdout",
     "output_type": "stream",
     "text": [
      "['authorities', 'tampa', 'florida', 'arrested', 'yearold', 'alleged', 'mastermind', 'behind', 'twitter', 'bitcoin', 'hack', 'targeted', 'several', 'highprofile', 'account', 'july', 'th', 'name', 'ha', 'revealed', 'due', 'underage', 'status', 'according']\n"
     ]
    }
   ],
   "source": [
    "processed = process_text(article)\n",
    "print(processed)"
   ]
  },
  {
   "cell_type": "code",
   "execution_count": 55,
   "metadata": {},
   "outputs": [
    {
     "name": "stdout",
     "output_type": "stream",
     "text": [
      "{'authorities': 1, 'tampa': 1, 'florida': 1, 'arrested': 1, 'yearold': 1, 'alleged': 1, 'mastermind': 1, 'behind': 1, 'twitter': 1, 'bitcoin': 1, 'hack': 1, 'targeted': 1, 'several': 1, 'highprofile': 1, 'account': 1, 'july': 1, 'th': 1, 'name': 1, 'ha': 1, 'revealed': 1, 'due': 1, 'underage': 1, 'status': 1, 'according': 1}\n"
     ]
    }
   ],
   "source": [
    "word_counts = Counter(processed)\n",
    "print(dict(word_counts))"
   ]
  },
  {
   "cell_type": "code",
   "execution_count": 56,
   "metadata": {},
   "outputs": [
    {
     "name": "stdout",
     "output_type": "stream",
     "text": [
      "{('authorities', 'tampa'): 1, ('tampa', 'florida'): 1, ('florida', 'arrested'): 1, ('arrested', 'yearold'): 1, ('yearold', 'alleged'): 1, ('alleged', 'mastermind'): 1, ('mastermind', 'behind'): 1, ('behind', 'twitter'): 1, ('twitter', 'bitcoin'): 1, ('bitcoin', 'hack'): 1, ('hack', 'targeted'): 1, ('targeted', 'several'): 1, ('several', 'highprofile'): 1, ('highprofile', 'account'): 1, ('account', 'july'): 1, ('july', 'th'): 1, ('th', 'name'): 1, ('name', 'ha'): 1, ('ha', 'revealed'): 1, ('revealed', 'due'): 1, ('due', 'underage'): 1, ('underage', 'status'): 1, ('status', 'according'): 1}\n"
     ]
    }
   ],
   "source": [
    "bigram_counts = Counter(ngrams(processed, n=2))\n",
    "print(dict(bigram_counts))"
   ]
  },
  {
   "cell_type": "code",
   "execution_count": 57,
   "metadata": {},
   "outputs": [
    {
     "name": "stdout",
     "output_type": "stream",
     "text": [
      "{('authorities', 'tampa'): 1, ('tampa', 'florida'): 1, ('florida', 'arrested'): 1, ('arrested', 'yearold'): 1, ('yearold', 'alleged'): 1, ('alleged', 'mastermind'): 1, ('mastermind', 'behind'): 1, ('behind', 'twitter'): 1, ('twitter', 'bitcoin'): 1, ('bitcoin', 'hack'): 1}\n"
     ]
    }
   ],
   "source": [
    "print(dict(bigram_counts.most_common(10)))"
   ]
  },
  {
   "cell_type": "markdown",
   "metadata": {},
   "source": [
    "# Word Clouds\n",
    "\n",
    "In this section, you will generate word clouds for each coin to summarize the news for each coin"
   ]
  },
  {
   "cell_type": "code",
   "execution_count": 58,
   "metadata": {},
   "outputs": [],
   "source": [
    "from wordcloud import WordCloud\n",
    "import matplotlib.pyplot as plt\n",
    "plt.style.use('seaborn-whitegrid')\n",
    "import matplotlib as mpl\n",
    "mpl.rcParams['figure.figsize'] = [20.0, 10.0]"
   ]
  },
  {
   "cell_type": "code",
   "execution_count": 76,
   "metadata": {},
   "outputs": [],
   "source": [
    "corpus = btc_articles"
   ]
  },
  {
   "cell_type": "code",
   "execution_count": 77,
   "metadata": {},
   "outputs": [],
   "source": [
    "def process_text(doc):\n",
    "    sw = set(stopwords.words('english'))\n",
    "    regex = re.compile(\"[^a-zA-Z ]\")\n",
    "    re_clean = regex.sub('', doc)\n",
    "    words = word_tokenize(re_clean)\n",
    "    lem = [lemmatizer.lemmatize(word) for word in words]\n",
    "    output = [word.lower() for word in lem if word.lower() not in sw]\n",
    "    return ' '.join(output)"
   ]
  },
  {
   "cell_type": "code",
   "execution_count": 78,
   "metadata": {},
   "outputs": [],
   "source": [
    "big_string = ' '.join(corpus)\n",
    "input_text = process_text(big_string)"
   ]
  },
  {
   "cell_type": "code",
   "execution_count": 79,
   "metadata": {},
   "outputs": [
    {
     "data": {
      "text/plain": [
       "<matplotlib.image.AxesImage at 0x1b427228f48>"
      ]
     },
     "execution_count": 79,
     "metadata": {},
     "output_type": "execute_result"
    },
    {
     "data": {
      "image/png": "[encoded data removed]",
      "text/plain": [
       "<Figure size 1440x720 with 1 Axes>"
      ]
     },
     "metadata": {},
     "output_type": "display_data"
    }
   ],
   "source": [
    "wc = WordCloud().generate(input_text)\n",
    "plt.imshow(wc)"
   ]
  },
  {
   "cell_type": "markdown",
   "metadata": {},
   "source": [
    "# Named Entity Recognition\n",
    "\n",
    "In this section, you will build a named entity recognition model for both coins and visualize the tags using SpaCy."
   ]
  },
  {
   "cell_type": "code",
   "execution_count": 80,
   "metadata": {},
   "outputs": [],
   "source": [
    "import spacy\n",
    "from spacy import displacy\n",
    "import matplotlib.pyplot as plt \n",
    "\n",
    "nlp = spacy.load(\"en_core_web_sm\")"
   ]
  },
  {
   "cell_type": "code",
   "execution_count": 81,
   "metadata": {},
   "outputs": [],
   "source": [
    "article = btc_articles['articles'][0]['description']"
   ]
  },
  {
   "cell_type": "code",
   "execution_count": 82,
   "metadata": {},
   "outputs": [
    {
     "data": {
      "text/html": [
       "<span class=\"tex2jax_ignore\"><div class=\"entities\" style=\"line-height: 2.5; direction: ltr\">Authorities in \n",
       "<mark class=\"entity\" style=\"background: #feca74; padding: 0.45em 0.6em; margin: 0 0.25em; line-height: 1; border-radius: 0.35em;\">\n",
       "    Tampa\n",
       "    <span style=\"font-size: 0.8em; font-weight: bold; line-height: 1; border-radius: 0.35em; text-transform: uppercase; vertical-align: middle; margin-left: 0.5rem\">GPE</span>\n",
       "</mark>\n",
       ", \n",
       "<mark class=\"entity\" style=\"background: #feca74; padding: 0.45em 0.6em; margin: 0 0.25em; line-height: 1; border-radius: 0.35em;\">\n",
       "    Florida\n",
       "    <span style=\"font-size: 0.8em; font-weight: bold; line-height: 1; border-radius: 0.35em; text-transform: uppercase; vertical-align: middle; margin-left: 0.5rem\">GPE</span>\n",
       "</mark>\n",
       " have arrested a \n",
       "<mark class=\"entity\" style=\"background: #bfe1d9; padding: 0.45em 0.6em; margin: 0 0.25em; line-height: 1; border-radius: 0.35em;\">\n",
       "    17-year-old\n",
       "    <span style=\"font-size: 0.8em; font-weight: bold; line-height: 1; border-radius: 0.35em; text-transform: uppercase; vertical-align: middle; margin-left: 0.5rem\">DATE</span>\n",
       "</mark>\n",
       " for being the alleged “mastermind” behind the \n",
       "<mark class=\"entity\" style=\"background: #7aecec; padding: 0.45em 0.6em; margin: 0 0.25em; line-height: 1; border-radius: 0.35em;\">\n",
       "    Twitter Bitcoin\n",
       "    <span style=\"font-size: 0.8em; font-weight: bold; line-height: 1; border-radius: 0.35em; text-transform: uppercase; vertical-align: middle; margin-left: 0.5rem\">ORG</span>\n",
       "</mark>\n",
       " hack that targeted several high-profile accounts on \n",
       "<mark class=\"entity\" style=\"background: #bfe1d9; padding: 0.45em 0.6em; margin: 0 0.25em; line-height: 1; border-radius: 0.35em;\">\n",
       "    July 15th, 2020\n",
       "    <span style=\"font-size: 0.8em; font-weight: bold; line-height: 1; border-radius: 0.35em; text-transform: uppercase; vertical-align: middle; margin-left: 0.5rem\">DATE</span>\n",
       "</mark>\n",
       ". His name has not been revealed due to his underage status. According t…</div></span>"
      ],
      "text/plain": [
       "<IPython.core.display.HTML object>"
      ]
     },
     "metadata": {},
     "output_type": "display_data"
    }
   ],
   "source": [
    "doc = nlp(article)\n",
    "displacy.render(doc, style='ent')"
   ]
  }
 ],
 "metadata": {
  "file_extension": ".py",
  "kernelspec": {
   "display_name": "Python 3",
   "language": "python",
   "name": "python3"
  },
  "language_info": {
   "codemirror_mode": {
    "name": "ipython",
    "version": 3
   },
   "file_extension": ".py",
   "mimetype": "text/x-python",
   "name": "python",
   "nbconvert_exporter": "python",
   "pygments_lexer": "ipython3",
   "version": "3.7.7"
  },
  "mimetype": "text/x-python",
  "name": "python",
  "npconvert_exporter": "python",
  "pygments_lexer": "ipython3",
  "version": 3
 },
 "nbformat": 4,
 "nbformat_minor": 4
}
